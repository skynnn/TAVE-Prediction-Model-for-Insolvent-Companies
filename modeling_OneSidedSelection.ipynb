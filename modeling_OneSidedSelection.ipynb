{
 "cells": [
  {
   "cell_type": "code",
   "execution_count": 1,
   "metadata": {},
   "outputs": [],
   "source": [
    "import pandas as pd\n",
    "import numpy as np\n",
    "pd.options.display.float_format = '{:.5f}'.format\n",
    "\n",
    "import matplotlib.pyplot as plt\n",
    "from matplotlib import rc\n",
    "%matplotlib inline\n",
    "import seaborn as sns\n",
    "rc('font', family='AppleGothic')\n",
    "plt.rcParams['axes.unicode_minus'] = False\n",
    "import warnings\n",
    "warnings.filterwarnings(action = 'ignore')"
   ]
  },
  {
   "cell_type": "code",
   "execution_count": 2,
   "metadata": {},
   "outputs": [],
   "source": [
    "# Model\n",
    "from sklearn.linear_model import LogisticRegression\n",
    "\n",
    "from xgboost import XGBClassifier\n",
    "from xgboost import plot_importance\n",
    "\n",
    "from sklearn.tree import DecisionTreeClassifier\n",
    "from sklearn.tree import export_graphviz\n",
    "import graphviz\n",
    "\n",
    "from sklearn.svm import SVC\n",
    "\n",
    "from sklearn.model_selection import GridSearchCV\n",
    "from sklearn.preprocessing import StandardScaler, RobustScaler, QuantileTransformer\n",
    "from sklearn.model_selection import train_test_split\n",
    "from sklearn.metrics import f1_score, accuracy_score, recall_score, precision_score ,roc_auc_score, roc_curve\n",
    "from sklearn.metrics import confusion_matrix\n",
    "from imblearn.over_sampling import SMOTE, RandomOverSampler, ADASYN, BorderlineSMOTE\n",
    "from imblearn.under_sampling import RandomUnderSampler, TomekLinks, OneSidedSelection\n",
    "from sklearn.preprocessing import Binarizer"
   ]
  },
  {
   "cell_type": "code",
   "execution_count": 3,
   "metadata": {},
   "outputs": [],
   "source": [
    "df_good = pd.read_csv('./dataset/data_확장기.csv')\n",
    "df_bad = pd.read_csv('./dataset/data_수축기.csv')\n",
    "df_change = pd.read_csv('./dataset/data_전환기.csv')\n",
    "df_all = pd.read_csv('./dataset/data_전체.csv')\n",
    "\n",
    "df_good.drop(['거래소코드', '회사명', '회계년도'], axis=1, inplace=True)\n",
    "df_bad.drop(['거래소코드', '회사명', '회계년도'], axis=1, inplace=True)\n",
    "df_change.drop(['거래소코드', '회사명', '회계년도'], axis=1, inplace=True)\n",
    "df_all.drop(['거래소코드', '회사명', '회계년도'], axis=1, inplace=True)"
   ]
  },
  {
   "attachments": {},
   "cell_type": "markdown",
   "metadata": {},
   "source": [
    "#### 함수"
   ]
  },
  {
   "attachments": {},
   "cell_type": "markdown",
   "metadata": {},
   "source": [
    "##### train, test 분리, 데이터 불균형 처리, 스케일링"
   ]
  },
  {
   "cell_type": "code",
   "execution_count": 4,
   "metadata": {},
   "outputs": [],
   "source": [
    "def data(df):\n",
    "    # scaler : StandardScaler(), RobustScaler()\n",
    "\n",
    "    features = df.drop(['target'], axis=1)\n",
    "    target = df['target']\n",
    "\n",
    "    X_train, X_test, y_train, y_test = train_test_split(features, target, random_state=121, stratify=target, test_size=0.2)\n",
    "    \n",
    "    X_train, y_train = OneSidedSelection(sampling_strategy = 'auto', random_state=0, n_neighbors=1).fit_resample(X_train, y_train)\n",
    "    scaler = StandardScaler()\n",
    "    X_train = scaler.fit_transform(X_train)\n",
    "    X_test = scaler.transform(X_test)\n",
    "    \n",
    "    return X_train, X_test, y_train, y_test"
   ]
  },
  {
   "attachments": {},
   "cell_type": "markdown",
   "metadata": {},
   "source": [
    "##### 모델 평가"
   ]
  },
  {
   "cell_type": "code",
   "execution_count": 5,
   "metadata": {},
   "outputs": [],
   "source": [
    "def score(y_test, pred):\n",
    "    \n",
    "    print('accuracy score : {0:.3f}'.format(accuracy_score(y_test, pred)))\n",
    "    print('precision score : {0:.3f}'.format(precision_score(y_test, pred)))\n",
    "    print('recall score : {0:.3f}'.format(recall_score(y_test, pred)))\n",
    "    print('f1 score : {0:.3f}'.format(f1_score(y_test, pred)))\n",
    "    print('roc score : {0:.3f}'.format(roc_auc_score(y_test, pred)))\n",
    "    \n",
    "    cm = confusion_matrix(y_test, pred)\n",
    "    sns.heatmap(cm, annot=True, annot_kws={\"size\": 20}, cmap='YlOrBr', fmt='g')\n",
    "    plt.xlabel('Predicted', fontsize=20)\n",
    "    plt.ylabel('Actual', fontsize=20)"
   ]
  },
  {
   "cell_type": "code",
   "execution_count": 6,
   "metadata": {},
   "outputs": [],
   "source": [
    "def get_f1_score(y_test, pred_proba_1):\n",
    "    thresholds = [0.2,0.3,0.4,0.5,0.6,0.7,0.8,0.9]\n",
    "    accuracys = []\n",
    "    precisions = []\n",
    "    recalls = []\n",
    "    f1_scores = []\n",
    "    auc_scores=[]\n",
    "\n",
    "    for threshold in thresholds:\n",
    "        binarizer = Binarizer(threshold = threshold)\n",
    "        pred_proba = binarizer.fit_transform(pred_proba_1)\n",
    "\n",
    "        accuracy = accuracy_score(y_test, pred_proba)\n",
    "        precision = precision_score(y_test, pred_proba)\n",
    "        recall = recall_score(y_test, pred_proba)\n",
    "        f1score = f1_score(y_test, pred_proba)\n",
    "        auc_score=roc_auc_score(y_test, pred_proba)\n",
    "\n",
    "        accuracys.append(accuracy)\n",
    "        precisions.append(precision)\n",
    "        recalls.append(recall)\n",
    "        f1_scores.append(f1score)\n",
    "        auc_scores.append(auc_score)\n",
    "    results = pd.DataFrame(data = {\"Accuracy\": accuracys, \"Precision\": precisions, \"Recall\": recalls, \"F1 score\": f1_scores,\"Auc_Score\":auc_scores}, index = thresholds)\n",
    "    print(results)"
   ]
  },
  {
   "attachments": {},
   "cell_type": "markdown",
   "metadata": {},
   "source": [
    "##### 모델링"
   ]
  },
  {
   "cell_type": "code",
   "execution_count": 7,
   "metadata": {},
   "outputs": [],
   "source": [
    "def LR(df):\n",
    "    X_train, X_test, y_train, y_test = data(df)\n",
    "\n",
    "    logistic = LogisticRegression()\n",
    "\n",
    "    param_logit = {'penalty' : ['l1', 'l2'],\n",
    "                   'C' : [0.001, 0.01, 0.1, 1, 10, 100],\n",
    "                   'solver' : ['liblinear'],\n",
    "                   'random_state' : [121],\n",
    "                   'class_weight' : ['balanced']}\n",
    "\n",
    "    gridsearch = GridSearchCV(logistic, param_grid = param_logit, cv=5, n_jobs=-1, scoring='f1', verbose=0, refit=True)\n",
    "    gridsearch.fit(X_train, y_train)\n",
    "\n",
    "    print('최적 파라미터\\n', gridsearch.best_params_)\n",
    "    print('학습 데이터 정확도 : ', gridsearch.best_score_)\n",
    "\n",
    "    estimator = gridsearch.best_estimator_\n",
    "    pred = pd.DataFrame(estimator.predict(X_test))\n",
    "    # pred = estimator.predict(X_test)\n",
    "    pred_probability = pd.DataFrame(estimator.predict_proba(X_test))\n",
    "    print('\\n예측 데이터 정확도')\n",
    "    score(y_test, pred)\n",
    "\n",
    "    prediction = pd.concat([pred_probability, pred], axis = 1)\n",
    "    prediction.columns = [\"Negative(0)\", \"Positive(1)\", \"y_pred\"]\n",
    "    pred_proba_1 = np.array(prediction[\"Positive(1)\"]).reshape(-1, 1)\n",
    " \n",
    "    print(get_f1_score(y_test, pred_proba_1))\n",
    "\n",
    "\n",
    "    # model_coef = pd.Series(best_model.best_estimator_.regressor_.coef_[0], df.drop(['target']).columns).sort_values(ascending=False)\n",
    "    # model_coef"
   ]
  },
  {
   "cell_type": "code",
   "execution_count": 8,
   "metadata": {},
   "outputs": [],
   "source": [
    "def DT(df):\n",
    "    X_train, X_test, y_train, y_test = data(df)\n",
    "\n",
    "    dt = DecisionTreeClassifier()\n",
    "    param_dt = { 'criterion' : ['entropy'],   #giny : 속도 더 빠름, #엔트로피 : 균형적인 트리\n",
    "                    'splitter' : ['best'],\n",
    "                    'random_state' : [121],\n",
    "                    'max_depth' : [5, 6, 7],\n",
    "                    'min_samples_split' : [3, 5],\n",
    "                    'class_weight' : ['balanced']}\n",
    "    \n",
    "    gridsearch = GridSearchCV(dt, param_grid = param_dt, cv=5, n_jobs=-1, scoring='f1', verbose=0, refit=True)\n",
    "    gridsearch.fit(X_train, y_train)\n",
    "\n",
    "    print('최적 파라미터\\n', gridsearch.best_params_)\n",
    "    print('학습 데이터 정확도 : ', gridsearch.best_score_)\n",
    "\n",
    "    estimator = gridsearch.best_estimator_\n",
    "    pred = pd.DataFrame(estimator.predict(X_test))\n",
    "    # pred = estimator.predict(X_test)\n",
    "    pred_probability = pd.DataFrame(estimator.predict_proba(X_test))\n",
    "    print('\\n예측 데이터 정확도')\n",
    "    score(y_test, pred)\n",
    "\n",
    "    prediction = pd.concat([pred_probability, pred], axis = 1)\n",
    "    prediction.columns = [\"Negative(0)\", \"Positive(1)\", \"y_pred\"]\n",
    "    pred_proba_1 = np.array(prediction[\"Positive(1)\"]).reshape(-1, 1)\n",
    " \n",
    "    print(get_f1_score(y_test, pred_proba_1))\n",
    "\n",
    "    return gridsearch.fit(X_train, y_train)"
   ]
  },
  {
   "cell_type": "code",
   "execution_count": 9,
   "metadata": {},
   "outputs": [],
   "source": [
    "def SVM(df, kernel):\n",
    "    X_train, X_test, y_train, y_test = data(df)\n",
    "\n",
    "    svc = SVC()\n",
    "    param_svc = {'C' : [0.1, 0.5, 1.0],\n",
    "                    'kernel' : [kernel],\n",
    "                    'gamma' : [0.01, 0.1, 1.0, 10.0],\n",
    "                    'random_state' : [121],\n",
    "                    'class_weight' : ['balanced']}\n",
    "    \n",
    "    gridsearch = GridSearchCV(svc, param_grid = param_svc, cv=5, n_jobs=-1, scoring='f1', verbose=0, refit=True)\n",
    "    gridsearch.fit(X_train, y_train)\n",
    "\n",
    "    print('최적 파라미터\\n', gridsearch.best_params_)\n",
    "    print('학습 데이터 정확도 : ', gridsearch.best_score_)\n",
    "\n",
    "    estimator = gridsearch.best_estimator_\n",
    "    pred = pd.DataFrame(estimator.predict(X_test))\n",
    "    pred = estimator.predict(X_test)\n",
    "    # pred_probability = pd.DataFrame(estimator.predict_proba(X_test))\n",
    "    print('\\n예측 데이터 정확도')\n",
    "    score(y_test, pred)\n",
    "\n",
    "    # prediction = pd.concat([pred_probability, pred], axis = 1)\n",
    "    # prediction.columns = [\"Negative(0)\", \"Positive(1)\", \"y_pred\"]\n",
    "    # pred_proba_1 = np.array(prediction[\"Positive(1)\"]).reshape(-1, 1)\n",
    " \n",
    "    # print(get_f1_score(y_test, pred_proba_1))"
   ]
  },
  {
   "cell_type": "code",
   "execution_count": 10,
   "metadata": {},
   "outputs": [],
   "source": [
    "def XGB(df):\n",
    "    X_train, X_test, y_train, y_test = data(df)\n",
    "\n",
    "    xgb = XGBClassifier()\n",
    "    param_xgb={'booster' :['gbtree'],\n",
    "               'silent' : [1],\n",
    "               'verbosity' : [0],\n",
    "               'learning_rate' : [0.01, 0.05, 0.1],    # 나중에 한 번 더 확인\n",
    "               'n_estimators' : [500],\n",
    "               'min_child_weight' : [3, 5, 7],  ###\n",
    "               'gamma' : [0.1, 1.0, 10.0],    ###\n",
    "               'max_depth' : [4, 6],     ###\n",
    "               'objective':['binary:logistic'],\n",
    "               'colsample_bytree' : [0.6, 0.8],\n",
    "               'colsample_bylevel' : [0.6, 0.8],\n",
    "               'random_state' : [121],\n",
    "               'scale_pos_weight' : [ len(df[df['target']==0])/len(df[df['target']==1]) ]\n",
    "                }\n",
    "\n",
    "    gridsearch = GridSearchCV(xgb, param_grid = param_xgb, cv=5, n_jobs=-1, scoring='f1', verbose=0, refit=True)\n",
    "    gridsearch.fit(X_train, y_train)\n",
    "    \n",
    "    print('최적 파라미터\\n', gridsearch.best_params_)\n",
    "    print('학습 데이터 정확도 : ', gridsearch.best_score_)\n",
    "\n",
    "    estimator = gridsearch.best_estimator_\n",
    "    pred = pd.DataFrame(estimator.predict(X_test))\n",
    "    # pred = estimator.predict(X_test)\n",
    "    pred_probability = pd.DataFrame(estimator.predict_proba(X_test))\n",
    "    print('\\n예측 데이터 정확도')\n",
    "    score(y_test, pred)\n",
    "\n",
    "    prediction = pd.concat([pred_probability, pred], axis = 1)\n",
    "    prediction.columns = [\"Negative(0)\", \"Positive(1)\", \"y_pred\"]\n",
    "    pred_proba_1 = np.array(prediction[\"Positive(1)\"]).reshape(-1, 1)\n",
    " \n",
    "    print(get_f1_score(y_test, pred_proba_1))"
   ]
  },
  {
   "attachments": {},
   "cell_type": "markdown",
   "metadata": {},
   "source": [
    "#### Feature Selection"
   ]
  },
  {
   "cell_type": "code",
   "execution_count": 11,
   "metadata": {},
   "outputs": [],
   "source": [
    "rfe_good = df_good[['유동비율', 'OCF', '총자본경상이익률', '자기자본영업이익률', '총자본회전율', '자기자본회전율', '유형자산증가율', '순이익증가율', 'target']]\n",
    "sfm_rf_good = df_good[['부채비율', 'OCF', '총자산이익률', '총자본경상이익률', '자기자본순이익률', '자기자본영업이익률', '총자본회전율', '자기자본회전율', '순이익증가율', 'target']]\n",
    "sfm_lr_good = df_good[['자기자본비율', '차입금의존도', '총자산이익률', '총자본경상이익률', '자기자본영업이익률', '매출원가율', '총자본회전율', '총자본증가율', '유형자산증가율', 'target']]\n",
    "sfm_pi_good = df_good[['자기자본영업이익률', '총자본회전율', '총자산이익률', '총자본경상이익률', '순이익증가율', '자기자본회전율', '유동비율', 'OCF', 'target']]"
   ]
  },
  {
   "cell_type": "code",
   "execution_count": 12,
   "metadata": {},
   "outputs": [],
   "source": [
    "rfe_bad = df_bad[['유동비율', 'OCF', '총자본경상이익률', '자기자본영업이익률', '총자본회전율', '자기자본회전율', 'target']]\n",
    "sfm_rf_bad = df_bad[['부채비율', 'OCF', '총자산이익률', '총자본경상이익률', '자기자본순이익률', '자기자본영업이익률', '총자본회전율', '자기자본회전율', '순이익증가율', 'target']]\n",
    "sfm_lr_bad = df_bad[['자기자본비율', '유동비율', '차입금의존도', '자기자본영업이익률', '매출원가율', '총자본회전율', '자기자본회전율', '총자본증가율', '유형자산증가율', 'target']]\n",
    "sfm_pi_bad = df_bad[['자기자본영업이익률', '총자본회전율', '총자본경상이익률', '총자산이익률', '순이익증가율', '자기자본회전율', '유동비율', 'OCF', 'target']]"
   ]
  },
  {
   "attachments": {},
   "cell_type": "markdown",
   "metadata": {},
   "source": [
    "#### 확장기"
   ]
  },
  {
   "attachments": {},
   "cell_type": "markdown",
   "metadata": {},
   "source": [
    "##### Recursive Feature Elimination"
   ]
  },
  {
   "cell_type": "code",
   "execution_count": 13,
   "metadata": {},
   "outputs": [
    {
     "name": "stderr",
     "output_type": "stream",
     "text": [
      "findfont: Font family ['AppleGothic'] not found. Falling back to DejaVu Sans.\n"
     ]
    },
    {
     "name": "stdout",
     "output_type": "stream",
     "text": [
      "최적 파라미터\n",
      " {'C': 1, 'class_weight': 'balanced', 'penalty': 'l1', 'random_state': 121, 'solver': 'liblinear'}\n",
      "학습 데이터 정확도 :  0.5090845629148651\n",
      "\n",
      "예측 데이터 정확도\n",
      "accuracy score : 0.808\n",
      "precision score : 0.338\n",
      "recall score : 0.856\n",
      "f1 score : 0.484\n",
      "roc score : 0.829\n"
     ]
    },
    {
     "name": "stderr",
     "output_type": "stream",
     "text": [
      "findfont: Font family ['AppleGothic'] not found. Falling back to DejaVu Sans.\n"
     ]
    },
    {
     "name": "stdout",
     "output_type": "stream",
     "text": [
      "         Accuracy  Precision  Recall  F1 score  Auc_Score\n",
      "0.20000   0.59271    0.20196 0.96801   0.33420    0.75820\n",
      "0.30000   0.68877    0.24616 0.94417   0.39050    0.80139\n",
      "0.40000   0.75932    0.29266 0.90276   0.44202    0.82257\n",
      "0.50000   0.80755    0.33771 0.85571   0.48429    0.82879\n",
      "0.60000   0.84266    0.37996 0.77541   0.51001    0.81301\n",
      "0.70000   0.86459    0.40957 0.63927   0.49927    0.76523\n",
      "0.80000   0.87287    0.40793 0.45169   0.42870    0.68715\n",
      "0.90000   0.87705    0.37500 0.24655   0.29750    0.59902\n",
      "None\n"
     ]
    },
    {
     "data": {
      "image/png": "[encoded data removed]",
      "text/plain": [
       "<Figure size 432x288 with 2 Axes>"
      ]
     },
     "metadata": {
      "needs_background": "light"
     },
     "output_type": "display_data"
    }
   ],
   "source": [
    "LR(rfe_good)"
   ]
  },
  {
   "cell_type": "code",
   "execution_count": 14,
   "metadata": {},
   "outputs": [
    {
     "name": "stdout",
     "output_type": "stream",
     "text": [
      "최적 파라미터\n",
      " {'class_weight': 'balanced', 'criterion': 'entropy', 'max_depth': 7, 'min_samples_split': 3, 'random_state': 121, 'splitter': 'best'}\n",
      "학습 데이터 정확도 :  0.6220717759971367\n",
      "\n",
      "예측 데이터 정확도\n",
      "accuracy score : 0.871\n",
      "precision score : 0.448\n",
      "recall score : 0.943\n",
      "f1 score : 0.608\n",
      "roc score : 0.903\n",
      "         Accuracy  Precision  Recall  F1 score  Auc_Score\n",
      "0.20000   0.81616    0.36422 0.99373   0.53306    0.89446\n",
      "0.30000   0.81689    0.36508 0.99310   0.53390    0.89459\n",
      "0.40000   0.85651    0.42160 0.96487   0.58680    0.90429\n",
      "0.50000   0.87141    0.44826 0.94291   0.60764    0.90294\n",
      "0.60000   0.88625    0.47986 0.91907   0.63051    0.90073\n",
      "0.70000   0.89407    0.49912 0.89084   0.63978    0.89265\n",
      "0.80000   0.90275    0.52455 0.84442   0.64712    0.87703\n",
      "0.90000   0.91507    0.60670 0.55646   0.58050    0.75694\n",
      "None\n"
     ]
    },
    {
     "data": {
      "text/plain": [
       "GridSearchCV(cv=5, estimator=DecisionTreeClassifier(), n_jobs=-1,\n",
       "             param_grid={'class_weight': ['balanced'], 'criterion': ['entropy'],\n",
       "                         'max_depth': [5, 6, 7], 'min_samples_split': [3, 5],\n",
       "                         'random_state': [121], 'splitter': ['best']},\n",
       "             scoring='f1')"
      ]
     },
     "execution_count": 14,
     "metadata": {},
     "output_type": "execute_result"
    },
    {
     "data": {
      "image/png": "[encoded data removed]",
      "text/plain": [
       "<Figure size 432x288 with 2 Axes>"
      ]
     },
     "metadata": {
      "needs_background": "light"
     },
     "output_type": "display_data"
    }
   ],
   "source": [
    "DT(rfe_good)"
   ]
  },
  {
   "cell_type": "code",
   "execution_count": 15,
   "metadata": {},
   "outputs": [],
   "source": [
    "# SVM(rfe_good, 'rbf')"
   ]
  },
  {
   "cell_type": "code",
   "execution_count": 16,
   "metadata": {},
   "outputs": [],
   "source": [
    "# XGB(rfe_good)"
   ]
  },
  {
   "attachments": {},
   "cell_type": "markdown",
   "metadata": {},
   "source": [
    "##### SelectFromModel_RandomForest"
   ]
  },
  {
   "cell_type": "code",
   "execution_count": 17,
   "metadata": {},
   "outputs": [
    {
     "name": "stdout",
     "output_type": "stream",
     "text": [
      "최적 파라미터\n",
      " {'C': 100, 'class_weight': 'balanced', 'penalty': 'l2', 'random_state': 121, 'solver': 'liblinear'}\n",
      "학습 데이터 정확도 :  0.5135232689737994\n",
      "\n",
      "예측 데이터 정확도\n",
      "accuracy score : 0.811\n",
      "precision score : 0.343\n",
      "recall score : 0.866\n",
      "f1 score : 0.491\n",
      "roc score : 0.835\n",
      "         Accuracy  Precision  Recall  F1 score  Auc_Score\n",
      "0.20000   0.60325    0.20594 0.96550   0.33947    0.76299\n",
      "0.30000   0.69129    0.24761 0.94354   0.39228    0.80252\n",
      "0.40000   0.75820    0.29308 0.91343   0.44377    0.82665\n",
      "0.50000   0.81067    0.34302 0.86637   0.49146    0.83523\n",
      "0.60000   0.84710    0.38947 0.78921   0.52156    0.82157\n",
      "0.70000   0.86717    0.41717 0.64931   0.50798    0.77110\n",
      "0.80000   0.87453    0.41611 0.46675   0.43998    0.69471\n",
      "0.90000   0.88069    0.40133 0.26412   0.31858    0.60880\n",
      "None\n"
     ]
    },
    {
     "data": {
      "image/png": "[encoded data removed]",
      "text/plain": [
       "<Figure size 432x288 with 2 Axes>"
      ]
     },
     "metadata": {
      "needs_background": "light"
     },
     "output_type": "display_data"
    }
   ],
   "source": [
    "LR(sfm_rf_good)"
   ]
  },
  {
   "cell_type": "code",
   "execution_count": 18,
   "metadata": {},
   "outputs": [
    {
     "name": "stdout",
     "output_type": "stream",
     "text": [
      "최적 파라미터\n",
      " {'class_weight': 'balanced', 'criterion': 'entropy', 'max_depth': 7, 'min_samples_split': 3, 'random_state': 121, 'splitter': 'best'}\n",
      "학습 데이터 정확도 :  0.6232310395434182\n",
      "\n",
      "예측 데이터 정확도\n",
      "accuracy score : 0.862\n",
      "precision score : 0.432\n",
      "recall score : 0.961\n",
      "f1 score : 0.596\n",
      "roc score : 0.906\n",
      "         Accuracy  Precision  Recall  F1 score  Auc_Score\n",
      "0.20000   0.80841    0.35520 0.99875   0.52403    0.89234\n",
      "0.30000   0.84319    0.40072 0.97867   0.56862    0.90293\n",
      "0.40000   0.85459    0.41859 0.96926   0.58467    0.90515\n",
      "0.50000   0.86227    0.43167 0.96110   0.59576    0.90585\n",
      "0.60000   0.88235    0.47091 0.92409   0.62389    0.90075\n",
      "0.70000   0.89241    0.49485 0.90339   0.63943    0.89725\n",
      "0.80000   0.90149    0.52035 0.85822   0.64788    0.88241\n",
      "0.90000   0.91679    0.61388 0.57152   0.59194    0.76454\n",
      "None\n"
     ]
    },
    {
     "data": {
      "text/plain": [
       "GridSearchCV(cv=5, estimator=DecisionTreeClassifier(), n_jobs=-1,\n",
       "             param_grid={'class_weight': ['balanced'], 'criterion': ['entropy'],\n",
       "                         'max_depth': [5, 6, 7], 'min_samples_split': [3, 5],\n",
       "                         'random_state': [121], 'splitter': ['best']},\n",
       "             scoring='f1')"
      ]
     },
     "execution_count": 18,
     "metadata": {},
     "output_type": "execute_result"
    },
    {
     "data": {
      "image/png": "[encoded data removed]",
      "text/plain": [
       "<Figure size 432x288 with 2 Axes>"
      ]
     },
     "metadata": {
      "needs_background": "light"
     },
     "output_type": "display_data"
    }
   ],
   "source": [
    "DT(sfm_rf_good)"
   ]
  },
  {
   "cell_type": "code",
   "execution_count": 19,
   "metadata": {},
   "outputs": [],
   "source": [
    "# SVM(sfm_rf_good, 'rbf')"
   ]
  },
  {
   "cell_type": "code",
   "execution_count": 20,
   "metadata": {},
   "outputs": [],
   "source": [
    "# XGB(sfm_rf_good)"
   ]
  },
  {
   "attachments": {},
   "cell_type": "markdown",
   "metadata": {},
   "source": [
    "##### SelectFromModel_Logistic Regression"
   ]
  },
  {
   "cell_type": "code",
   "execution_count": 21,
   "metadata": {},
   "outputs": [
    {
     "name": "stdout",
     "output_type": "stream",
     "text": [
      "최적 파라미터\n",
      " {'C': 0.01, 'class_weight': 'balanced', 'penalty': 'l1', 'random_state': 121, 'solver': 'liblinear'}\n",
      "학습 데이터 정확도 :  0.49988445521969105\n",
      "\n",
      "예측 데이터 정확도\n",
      "accuracy score : 0.802\n",
      "precision score : 0.328\n",
      "recall score : 0.836\n",
      "f1 score : 0.471\n",
      "roc score : 0.817\n",
      "         Accuracy  Precision  Recall  F1 score  Auc_Score\n",
      "0.20000   0.58523    0.19979 0.97428   0.33159    0.75679\n",
      "0.30000   0.69109    0.24749 0.94354   0.39213    0.80241\n",
      "0.40000   0.75760    0.29103 0.90213   0.44009    0.82134\n",
      "0.50000   0.80199    0.32816 0.83563   0.47125    0.81682\n",
      "0.60000   0.83663    0.36618 0.74843   0.49176    0.79774\n",
      "0.70000   0.86035    0.39753 0.62547   0.48610    0.75678\n",
      "0.80000   0.86744    0.39112 0.45859   0.42218    0.68715\n",
      "0.90000   0.87347    0.35234 0.23651   0.28303    0.59259\n",
      "None\n"
     ]
    },
    {
     "data": {
      "image/png": "[encoded data removed]",
      "text/plain": [
       "<Figure size 432x288 with 2 Axes>"
      ]
     },
     "metadata": {
      "needs_background": "light"
     },
     "output_type": "display_data"
    }
   ],
   "source": [
    "LR(sfm_lr_good)"
   ]
  },
  {
   "cell_type": "code",
   "execution_count": 22,
   "metadata": {},
   "outputs": [
    {
     "name": "stdout",
     "output_type": "stream",
     "text": [
      "최적 파라미터\n",
      " {'class_weight': 'balanced', 'criterion': 'entropy', 'max_depth': 7, 'min_samples_split': 5, 'random_state': 121, 'splitter': 'best'}\n",
      "학습 데이터 정확도 :  0.5709901631220904\n",
      "\n",
      "예측 데이터 정확도\n",
      "accuracy score : 0.824\n",
      "precision score : 0.374\n",
      "recall score : 0.991\n",
      "f1 score : 0.543\n",
      "roc score : 0.897\n",
      "         Accuracy  Precision  Recall  F1 score  Auc_Score\n",
      "0.20000   0.80768    0.35439 0.99937   0.52324    0.89221\n",
      "0.30000   0.82365    0.37364 0.99059   0.54261    0.89727\n",
      "0.40000   0.82365    0.37364 0.99059   0.54261    0.89727\n",
      "0.50000   0.82365    0.37364 0.99059   0.54261    0.89727\n",
      "0.60000   0.82763    0.37737 0.97302   0.54383    0.89174\n",
      "0.70000   0.87334    0.44704 0.84191   0.58399    0.85948\n",
      "0.80000   0.90547    0.54211 0.67440   0.60106    0.80357\n",
      "0.90000   0.91474    0.64605 0.42597   0.51342    0.69921\n",
      "None\n"
     ]
    },
    {
     "data": {
      "text/plain": [
       "GridSearchCV(cv=5, estimator=DecisionTreeClassifier(), n_jobs=-1,\n",
       "             param_grid={'class_weight': ['balanced'], 'criterion': ['entropy'],\n",
       "                         'max_depth': [5, 6, 7], 'min_samples_split': [3, 5],\n",
       "                         'random_state': [121], 'splitter': ['best']},\n",
       "             scoring='f1')"
      ]
     },
     "execution_count": 22,
     "metadata": {},
     "output_type": "execute_result"
    },
    {
     "data": {
      "image/png": "[encoded data removed]",
      "text/plain": [
       "<Figure size 432x288 with 2 Axes>"
      ]
     },
     "metadata": {
      "needs_background": "light"
     },
     "output_type": "display_data"
    }
   ],
   "source": [
    "DT(sfm_lr_good)"
   ]
  },
  {
   "cell_type": "code",
   "execution_count": 23,
   "metadata": {},
   "outputs": [],
   "source": [
    "# SVM(sfm_lr_good, 'rbf')"
   ]
  },
  {
   "cell_type": "code",
   "execution_count": 24,
   "metadata": {},
   "outputs": [],
   "source": [
    "# XGB(sfm_lr_good)"
   ]
  },
  {
   "attachments": {},
   "cell_type": "markdown",
   "metadata": {},
   "source": [
    "##### Permutation Importance"
   ]
  },
  {
   "cell_type": "code",
   "execution_count": 25,
   "metadata": {},
   "outputs": [
    {
     "name": "stdout",
     "output_type": "stream",
     "text": [
      "최적 파라미터\n",
      " {'C': 0.1, 'class_weight': 'balanced', 'penalty': 'l1', 'random_state': 121, 'solver': 'liblinear'}\n",
      "학습 데이터 정확도 :  0.5087661907150999\n",
      "\n",
      "예측 데이터 정확도\n",
      "accuracy score : 0.808\n",
      "precision score : 0.338\n",
      "recall score : 0.855\n",
      "f1 score : 0.484\n",
      "roc score : 0.829\n",
      "         Accuracy  Precision  Recall  F1 score  Auc_Score\n",
      "0.20000   0.59218    0.20152 0.96612   0.33348    0.75708\n",
      "0.30000   0.68705    0.24478 0.94166   0.38856    0.79932\n",
      "0.40000   0.75952    0.29267 0.90151   0.44188    0.82213\n",
      "0.50000   0.80762    0.33771 0.85508   0.48419    0.82855\n",
      "0.60000   0.84359    0.38182 0.77729   0.51209    0.81435\n",
      "0.70000   0.86479    0.40926 0.63237   0.49692    0.76230\n",
      "0.80000   0.87267    0.40797 0.45609   0.43069    0.68897\n",
      "0.90000   0.87731    0.37807 0.25094   0.30166    0.60110\n",
      "None\n"
     ]
    },
    {
     "data": {
      "image/png": "[encoded data removed]",
      "text/plain": [
       "<Figure size 432x288 with 2 Axes>"
      ]
     },
     "metadata": {
      "needs_background": "light"
     },
     "output_type": "display_data"
    }
   ],
   "source": [
    "LR(sfm_pi_good)"
   ]
  },
  {
   "cell_type": "code",
   "execution_count": 26,
   "metadata": {},
   "outputs": [
    {
     "name": "stdout",
     "output_type": "stream",
     "text": [
      "최적 파라미터\n",
      " {'class_weight': 'balanced', 'criterion': 'entropy', 'max_depth': 7, 'min_samples_split': 3, 'random_state': 121, 'splitter': 'best'}\n",
      "학습 데이터 정확도 :  0.6206676901707096\n",
      "\n",
      "예측 데이터 정확도\n",
      "accuracy score : 0.874\n",
      "precision score : 0.454\n",
      "recall score : 0.941\n",
      "f1 score : 0.612\n",
      "roc score : 0.904\n",
      "         Accuracy  Precision  Recall  F1 score  Auc_Score\n",
      "0.20000   0.81683    0.36506 0.99373   0.53396    0.89483\n",
      "0.30000   0.81683    0.36506 0.99373   0.53396    0.89483\n",
      "0.40000   0.85028    0.41125 0.96801   0.57725    0.90219\n",
      "0.50000   0.87406    0.45358 0.94103   0.61212    0.90359\n",
      "0.60000   0.88102    0.46798 0.92597   0.62174    0.90084\n",
      "0.70000   0.89506    0.50179 0.87829   0.63869    0.88767\n",
      "0.80000   0.90242    0.52348 0.84630   0.64685    0.87767\n",
      "0.90000   0.91567    0.61107 0.55395   0.58111    0.75616\n",
      "None\n"
     ]
    },
    {
     "data": {
      "text/plain": [
       "GridSearchCV(cv=5, estimator=DecisionTreeClassifier(), n_jobs=-1,\n",
       "             param_grid={'class_weight': ['balanced'], 'criterion': ['entropy'],\n",
       "                         'max_depth': [5, 6, 7], 'min_samples_split': [3, 5],\n",
       "                         'random_state': [121], 'splitter': ['best']},\n",
       "             scoring='f1')"
      ]
     },
     "execution_count": 26,
     "metadata": {},
     "output_type": "execute_result"
    },
    {
     "data": {
      "image/png": "[encoded data removed]",
      "text/plain": [
       "<Figure size 432x288 with 2 Axes>"
      ]
     },
     "metadata": {
      "needs_background": "light"
     },
     "output_type": "display_data"
    }
   ],
   "source": [
    "DT(sfm_pi_good)"
   ]
  },
  {
   "cell_type": "code",
   "execution_count": 27,
   "metadata": {},
   "outputs": [],
   "source": [
    "# SVM(sfm_pi_good, 'rbf')"
   ]
  },
  {
   "cell_type": "code",
   "execution_count": 28,
   "metadata": {},
   "outputs": [],
   "source": [
    "# XGB(sfm_pi_good)"
   ]
  },
  {
   "attachments": {},
   "cell_type": "markdown",
   "metadata": {},
   "source": [
    "#### 수축기"
   ]
  },
  {
   "attachments": {},
   "cell_type": "markdown",
   "metadata": {},
   "source": [
    "##### Recursive Feature Elimination"
   ]
  },
  {
   "cell_type": "code",
   "execution_count": 29,
   "metadata": {},
   "outputs": [
    {
     "name": "stdout",
     "output_type": "stream",
     "text": [
      "최적 파라미터\n",
      " {'C': 1, 'class_weight': 'balanced', 'penalty': 'l1', 'random_state': 121, 'solver': 'liblinear'}\n",
      "학습 데이터 정확도 :  0.4287665655595235\n",
      "\n",
      "예측 데이터 정확도\n",
      "accuracy score : 0.789\n",
      "precision score : 0.272\n",
      "recall score : 0.879\n",
      "f1 score : 0.415\n",
      "roc score : 0.830\n",
      "         Accuracy  Precision  Recall  F1 score  Auc_Score\n",
      "0.20000   0.54653    0.15502 0.97311   0.26744    0.73999\n",
      "0.30000   0.65590    0.19267 0.95462   0.32063    0.79137\n",
      "0.40000   0.73324    0.23265 0.92941   0.37214    0.82221\n",
      "0.50000   0.78914    0.27155 0.87899   0.41491    0.82989\n",
      "0.60000   0.82745    0.30181 0.78319   0.43572    0.80738\n",
      "0.70000   0.85161    0.30276 0.57143   0.39581    0.72454\n",
      "0.80000   0.86934    0.29041 0.37143   0.32596    0.64353\n",
      "0.90000   0.88392    0.22807 0.15294   0.18310    0.55241\n",
      "None\n"
     ]
    },
    {
     "data": {
      "image/png": "[encoded data removed]",
      "text/plain": [
       "<Figure size 432x288 with 2 Axes>"
      ]
     },
     "metadata": {
      "needs_background": "light"
     },
     "output_type": "display_data"
    }
   ],
   "source": [
    "LR(rfe_bad)"
   ]
  },
  {
   "cell_type": "code",
   "execution_count": 30,
   "metadata": {},
   "outputs": [
    {
     "name": "stdout",
     "output_type": "stream",
     "text": [
      "최적 파라미터\n",
      " {'class_weight': 'balanced', 'criterion': 'entropy', 'max_depth': 7, 'min_samples_split': 3, 'random_state': 121, 'splitter': 'best'}\n",
      "학습 데이터 정확도 :  0.4707455027193476\n",
      "\n",
      "예측 데이터 정확도\n",
      "accuracy score : 0.810\n",
      "precision score : 0.298\n",
      "recall score : 0.914\n",
      "f1 score : 0.450\n",
      "roc score : 0.857\n",
      "         Accuracy  Precision  Recall  F1 score  Auc_Score\n",
      "0.20000   0.77927    0.27565 0.97983   0.43026    0.87023\n",
      "0.30000   0.77927    0.27565 0.97983   0.43026    0.87023\n",
      "0.40000   0.77927    0.27565 0.97983   0.43026    0.87023\n",
      "0.50000   0.80958    0.29808 0.91429   0.44959    0.85706\n",
      "0.60000   0.80958    0.29808 0.91429   0.44959    0.85706\n",
      "0.70000   0.87391    0.38247 0.78487   0.51432    0.83353\n",
      "0.80000   0.88563    0.40500 0.73445   0.52210    0.81707\n",
      "0.90000   0.92280    0.60300 0.27059   0.37355    0.62701\n",
      "None\n"
     ]
    },
    {
     "data": {
      "text/plain": [
       "GridSearchCV(cv=5, estimator=DecisionTreeClassifier(), n_jobs=-1,\n",
       "             param_grid={'class_weight': ['balanced'], 'criterion': ['entropy'],\n",
       "                         'max_depth': [5, 6, 7], 'min_samples_split': [3, 5],\n",
       "                         'random_state': [121], 'splitter': ['best']},\n",
       "             scoring='f1')"
      ]
     },
     "execution_count": 30,
     "metadata": {},
     "output_type": "execute_result"
    },
    {
     "data": {
      "image/png": "[encoded data removed]",
      "text/plain": [
       "<Figure size 432x288 with 2 Axes>"
      ]
     },
     "metadata": {
      "needs_background": "light"
     },
     "output_type": "display_data"
    }
   ],
   "source": [
    "DT(rfe_bad)"
   ]
  },
  {
   "cell_type": "code",
   "execution_count": 31,
   "metadata": {},
   "outputs": [],
   "source": [
    "# SVM(rfe_bad, 'rbf')"
   ]
  },
  {
   "cell_type": "code",
   "execution_count": 32,
   "metadata": {},
   "outputs": [],
   "source": [
    "# XGB(rfe_bad)"
   ]
  },
  {
   "attachments": {},
   "cell_type": "markdown",
   "metadata": {},
   "source": [
    "##### SelectFromModel_RandomForest"
   ]
  },
  {
   "cell_type": "code",
   "execution_count": 33,
   "metadata": {},
   "outputs": [
    {
     "name": "stdout",
     "output_type": "stream",
     "text": [
      "최적 파라미터\n",
      " {'C': 10, 'class_weight': 'balanced', 'penalty': 'l1', 'random_state': 121, 'solver': 'liblinear'}\n",
      "학습 데이터 정확도 :  0.43589830543839075\n",
      "\n",
      "예측 데이터 정확도\n",
      "accuracy score : 0.800\n",
      "precision score : 0.285\n",
      "recall score : 0.889\n",
      "f1 score : 0.431\n",
      "roc score : 0.841\n",
      "         Accuracy  Precision  Recall  F1 score  Auc_Score\n",
      "0.20000   0.57112    0.16231 0.97143   0.27815    0.75267\n",
      "0.30000   0.66819    0.19719 0.94454   0.32627    0.79352\n",
      "0.40000   0.74339    0.23822 0.91765   0.37825    0.82242\n",
      "0.50000   0.80043    0.28456 0.88908   0.43113    0.84063\n",
      "0.60000   0.83760    0.31833 0.79664   0.45489    0.81902\n",
      "0.70000   0.86319    0.34039 0.64874   0.44650    0.76593\n",
      "0.80000   0.87763    0.33418 0.44202   0.38061    0.68007\n",
      "0.90000   0.88906    0.29291 0.21513   0.24806    0.58342\n",
      "None\n"
     ]
    },
    {
     "data": {
      "image/png": "[encoded data removed]",
      "text/plain": [
       "<Figure size 432x288 with 2 Axes>"
      ]
     },
     "metadata": {
      "needs_background": "light"
     },
     "output_type": "display_data"
    }
   ],
   "source": [
    "LR(sfm_rf_bad)"
   ]
  },
  {
   "cell_type": "code",
   "execution_count": 34,
   "metadata": {},
   "outputs": [
    {
     "name": "stdout",
     "output_type": "stream",
     "text": [
      "최적 파라미터\n",
      " {'class_weight': 'balanced', 'criterion': 'entropy', 'max_depth': 7, 'min_samples_split': 3, 'random_state': 121, 'splitter': 'best'}\n",
      "학습 데이터 정확도 :  0.5137150840466924\n",
      "\n",
      "예측 데이터 정확도\n",
      "accuracy score : 0.842\n",
      "precision score : 0.344\n",
      "recall score : 0.950\n",
      "f1 score : 0.505\n",
      "roc score : 0.891\n",
      "         Accuracy  Precision  Recall  F1 score  Auc_Score\n",
      "0.20000   0.79757    0.29194 0.96807   0.44860    0.87489\n",
      "0.30000   0.79757    0.29194 0.96807   0.44860    0.87489\n",
      "0.40000   0.81601    0.31155 0.96134   0.47059    0.88192\n",
      "0.50000   0.84160    0.34388 0.94958   0.50492    0.89057\n",
      "0.60000   0.84346    0.34644 0.94790   0.50742    0.89082\n",
      "0.70000   0.86905    0.38137 0.86723   0.52977    0.86822\n",
      "0.80000   0.89621    0.43708 0.76471   0.55623    0.83657\n",
      "0.90000   0.92051    0.55228 0.34622   0.42562    0.66006\n",
      "None\n"
     ]
    },
    {
     "data": {
      "text/plain": [
       "GridSearchCV(cv=5, estimator=DecisionTreeClassifier(), n_jobs=-1,\n",
       "             param_grid={'class_weight': ['balanced'], 'criterion': ['entropy'],\n",
       "                         'max_depth': [5, 6, 7], 'min_samples_split': [3, 5],\n",
       "                         'random_state': [121], 'splitter': ['best']},\n",
       "             scoring='f1')"
      ]
     },
     "execution_count": 34,
     "metadata": {},
     "output_type": "execute_result"
    },
    {
     "data": {
      "image/png": "[encoded data removed]",
      "text/plain": [
       "<Figure size 432x288 with 2 Axes>"
      ]
     },
     "metadata": {
      "needs_background": "light"
     },
     "output_type": "display_data"
    }
   ],
   "source": [
    "DT(sfm_rf_bad)"
   ]
  },
  {
   "cell_type": "code",
   "execution_count": 35,
   "metadata": {},
   "outputs": [],
   "source": [
    "# SVM(sfm_rf_bad, 'rbf')"
   ]
  },
  {
   "cell_type": "code",
   "execution_count": 36,
   "metadata": {},
   "outputs": [],
   "source": [
    "# XGB(sfm_rf_bad)"
   ]
  },
  {
   "attachments": {},
   "cell_type": "markdown",
   "metadata": {},
   "source": [
    "##### SelectFromModel_Logistic Regression"
   ]
  },
  {
   "cell_type": "code",
   "execution_count": 37,
   "metadata": {},
   "outputs": [
    {
     "name": "stdout",
     "output_type": "stream",
     "text": [
      "최적 파라미터\n",
      " {'C': 10, 'class_weight': 'balanced', 'penalty': 'l1', 'random_state': 121, 'solver': 'liblinear'}\n",
      "학습 데이터 정확도 :  0.4306412580898811\n",
      "\n",
      "예측 데이터 정확도\n",
      "accuracy score : 0.790\n",
      "precision score : 0.264\n",
      "recall score : 0.824\n",
      "f1 score : 0.400\n",
      "roc score : 0.805\n",
      "         Accuracy  Precision  Recall  F1 score  Auc_Score\n",
      "0.20000   0.54853    0.15616 0.97815   0.26932    0.74337\n",
      "0.30000   0.66748    0.19854 0.95798   0.32891    0.79923\n",
      "0.40000   0.74639    0.24042 0.91765   0.38102    0.82406\n",
      "0.50000   0.79014    0.26444 0.82353   0.40033    0.80528\n",
      "0.60000   0.82273    0.28428 0.71429   0.40670    0.77355\n",
      "0.70000   0.84632    0.29557 0.58319   0.39231    0.72699\n",
      "0.80000   0.86276    0.29425 0.43866   0.35223    0.67042\n",
      "0.90000   0.87877    0.22075 0.16807   0.19084    0.55646\n",
      "None\n"
     ]
    },
    {
     "data": {
      "image/png": "[encoded data removed]",
      "text/plain": [
       "<Figure size 432x288 with 2 Axes>"
      ]
     },
     "metadata": {
      "needs_background": "light"
     },
     "output_type": "display_data"
    }
   ],
   "source": [
    "LR(sfm_lr_bad)"
   ]
  },
  {
   "cell_type": "code",
   "execution_count": 38,
   "metadata": {},
   "outputs": [
    {
     "name": "stdout",
     "output_type": "stream",
     "text": [
      "최적 파라미터\n",
      " {'class_weight': 'balanced', 'criterion': 'entropy', 'max_depth': 7, 'min_samples_split': 3, 'random_state': 121, 'splitter': 'best'}\n",
      "학습 데이터 정확도 :  0.4720037196609578\n",
      "\n",
      "예측 데이터 정확도\n",
      "accuracy score : 0.785\n",
      "precision score : 0.279\n",
      "recall score : 0.965\n",
      "f1 score : 0.433\n",
      "roc score : 0.866\n",
      "         Accuracy  Precision  Recall  F1 score  Auc_Score\n",
      "0.20000   0.77327    0.27134 0.98824   0.42578    0.87076\n",
      "0.30000   0.77613    0.27366 0.98655   0.42847    0.87156\n",
      "0.40000   0.78470    0.27985 0.97311   0.43468    0.87015\n",
      "0.50000   0.78485    0.27891 0.96471   0.43272    0.86642\n",
      "0.60000   0.85547    0.35535 0.85882   0.50271    0.85699\n",
      "0.70000   0.85847    0.35943 0.84874   0.50500    0.85406\n",
      "0.80000   0.89378    0.42449 0.69916   0.52825    0.80552\n",
      "0.90000   0.92051    0.53772 0.46723   0.50000    0.71494\n",
      "None\n"
     ]
    },
    {
     "data": {
      "text/plain": [
       "GridSearchCV(cv=5, estimator=DecisionTreeClassifier(), n_jobs=-1,\n",
       "             param_grid={'class_weight': ['balanced'], 'criterion': ['entropy'],\n",
       "                         'max_depth': [5, 6, 7], 'min_samples_split': [3, 5],\n",
       "                         'random_state': [121], 'splitter': ['best']},\n",
       "             scoring='f1')"
      ]
     },
     "execution_count": 38,
     "metadata": {},
     "output_type": "execute_result"
    },
    {
     "data": {
      "image/png": "[encoded data removed]",
      "text/plain": [
       "<Figure size 432x288 with 2 Axes>"
      ]
     },
     "metadata": {
      "needs_background": "light"
     },
     "output_type": "display_data"
    }
   ],
   "source": [
    "DT(sfm_lr_bad)"
   ]
  },
  {
   "cell_type": "code",
   "execution_count": 39,
   "metadata": {},
   "outputs": [],
   "source": [
    "# SVM(sfm_lr_bad, 'rbf')"
   ]
  },
  {
   "cell_type": "code",
   "execution_count": 40,
   "metadata": {},
   "outputs": [],
   "source": [
    "# XGB(sfm_lr_bad)"
   ]
  },
  {
   "attachments": {},
   "cell_type": "markdown",
   "metadata": {},
   "source": [
    "##### Permutation Importance"
   ]
  },
  {
   "cell_type": "code",
   "execution_count": 41,
   "metadata": {},
   "outputs": [
    {
     "name": "stdout",
     "output_type": "stream",
     "text": [
      "최적 파라미터\n",
      " {'C': 0.1, 'class_weight': 'balanced', 'penalty': 'l2', 'random_state': 121, 'solver': 'liblinear'}\n",
      "학습 데이터 정확도 :  0.4357524602187911\n",
      "\n",
      "예측 데이터 정확도\n",
      "accuracy score : 0.795\n",
      "precision score : 0.276\n",
      "recall score : 0.862\n",
      "f1 score : 0.418\n",
      "roc score : 0.826\n",
      "         Accuracy  Precision  Recall  F1 score  Auc_Score\n",
      "0.20000   0.55482    0.15765 0.97479   0.27141    0.74529\n",
      "0.30000   0.66162    0.19511 0.95294   0.32391    0.79374\n",
      "0.40000   0.73896    0.23481 0.91597   0.37380    0.81923\n",
      "0.50000   0.79543    0.27551 0.86218   0.41758    0.82570\n",
      "0.60000   0.83488    0.31004 0.76807   0.44176    0.80458\n",
      "0.70000   0.86076    0.33004 0.61849   0.43041    0.75088\n",
      "0.80000   0.87420    0.31225 0.39832   0.35007    0.65838\n",
      "0.90000   0.88763    0.27739 0.20000   0.23242    0.57578\n",
      "None\n"
     ]
    },
    {
     "data": {
      "image/png": "[encoded data removed]",
      "text/plain": [
       "<Figure size 432x288 with 2 Axes>"
      ]
     },
     "metadata": {
      "needs_background": "light"
     },
     "output_type": "display_data"
    }
   ],
   "source": [
    "LR(sfm_pi_bad)"
   ]
  },
  {
   "cell_type": "code",
   "execution_count": 42,
   "metadata": {},
   "outputs": [
    {
     "name": "stdout",
     "output_type": "stream",
     "text": [
      "최적 파라미터\n",
      " {'class_weight': 'balanced', 'criterion': 'entropy', 'max_depth': 7, 'min_samples_split': 3, 'random_state': 121, 'splitter': 'best'}\n",
      "학습 데이터 정확도 :  0.5118890306500844\n",
      "\n",
      "예측 데이터 정확도\n",
      "accuracy score : 0.833\n",
      "precision score : 0.331\n",
      "recall score : 0.938\n",
      "f1 score : 0.489\n",
      "roc score : 0.881\n",
      "         Accuracy  Precision  Recall  F1 score  Auc_Score\n",
      "0.20000   0.79442    0.28787 0.96134   0.44307    0.87013\n",
      "0.30000   0.79442    0.28787 0.96134   0.44307    0.87013\n",
      "0.40000   0.81229    0.30553 0.94790   0.46211    0.87379\n",
      "0.50000   0.83317    0.33057 0.93782   0.48883    0.88063\n",
      "0.60000   0.85261    0.35525 0.89916   0.50928    0.87372\n",
      "0.70000   0.87320    0.38717 0.84202   0.53044    0.85906\n",
      "0.80000   0.89764    0.43833 0.72269   0.54569    0.81830\n",
      "0.90000   0.91894    0.53139 0.39832   0.45533    0.68283\n",
      "None\n"
     ]
    },
    {
     "data": {
      "text/plain": [
       "GridSearchCV(cv=5, estimator=DecisionTreeClassifier(), n_jobs=-1,\n",
       "             param_grid={'class_weight': ['balanced'], 'criterion': ['entropy'],\n",
       "                         'max_depth': [5, 6, 7], 'min_samples_split': [3, 5],\n",
       "                         'random_state': [121], 'splitter': ['best']},\n",
       "             scoring='f1')"
      ]
     },
     "execution_count": 42,
     "metadata": {},
     "output_type": "execute_result"
    },
    {
     "data": {
      "image/png": "[encoded data removed]",
      "text/plain": [
       "<Figure size 432x288 with 2 Axes>"
      ]
     },
     "metadata": {
      "needs_background": "light"
     },
     "output_type": "display_data"
    }
   ],
   "source": [
    "DT(sfm_pi_bad)"
   ]
  },
  {
   "cell_type": "code",
   "execution_count": 43,
   "metadata": {},
   "outputs": [],
   "source": [
    "# SVM(sfm_pi_bad, 'rbf')"
   ]
  },
  {
   "cell_type": "code",
   "execution_count": 44,
   "metadata": {},
   "outputs": [],
   "source": [
    "# XGB(sfm_pi_bad)"
   ]
  }
 ],
 "metadata": {
  "kernelspec": {
   "display_name": "poly07",
   "language": "python",
   "name": "python3"
  },
  "language_info": {
   "codemirror_mode": {
    "name": "ipython",
    "version": 3
   },
   "file_extension": ".py",
   "mimetype": "text/x-python",
   "name": "python",
   "nbconvert_exporter": "python",
   "pygments_lexer": "ipython3",
   "version": "3.6.12"
  },
  "orig_nbformat": 4,
  "vscode": {
   "interpreter": {
    "hash": "c2388b1e455d5a3419322a188e4749252665636df7d4aa4dc75d4e694df1d717"
   }
  }
 },
 "nbformat": 4,
 "nbformat_minor": 2
}
