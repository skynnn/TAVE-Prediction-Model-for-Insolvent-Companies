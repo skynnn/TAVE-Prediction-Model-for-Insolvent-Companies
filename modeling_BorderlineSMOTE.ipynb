{
 "cells": [
  {
   "cell_type": "code",
   "execution_count": 1,
   "metadata": {},
   "outputs": [],
   "source": [
    "import pandas as pd\n",
    "import numpy as np\n",
    "pd.options.display.float_format = '{:.5f}'.format\n",
    "\n",
    "import matplotlib.pyplot as plt\n",
    "from matplotlib import rc\n",
    "%matplotlib inline\n",
    "import seaborn as sns\n",
    "rc('font', family='AppleGothic')\n",
    "plt.rcParams['axes.unicode_minus'] = False\n",
    "import warnings\n",
    "warnings.filterwarnings(action = 'ignore')"
   ]
  },
  {
   "cell_type": "code",
   "execution_count": 2,
   "metadata": {},
   "outputs": [],
   "source": [
    "# Model\n",
    "from sklearn.linear_model import LogisticRegression\n",
    "\n",
    "from xgboost import XGBClassifier\n",
    "from xgboost import plot_importance\n",
    "\n",
    "from sklearn.tree import DecisionTreeClassifier\n",
    "from sklearn.tree import export_graphviz\n",
    "import graphviz\n",
    "\n",
    "from sklearn.svm import SVC\n",
    "\n",
    "from sklearn.model_selection import GridSearchCV\n",
    "from sklearn.preprocessing import StandardScaler, RobustScaler, QuantileTransformer\n",
    "from sklearn.model_selection import train_test_split\n",
    "from sklearn.metrics import f1_score, accuracy_score, recall_score, precision_score ,roc_auc_score, roc_curve\n",
    "from sklearn.metrics import confusion_matrix\n",
    "from imblearn.over_sampling import SMOTE, RandomOverSampler, ADASYN, BorderlineSMOTE\n",
    "from imblearn.under_sampling import RandomUnderSampler, TomekLinks, OneSidedSelection\n",
    "from sklearn.preprocessing import Binarizer"
   ]
  },
  {
   "cell_type": "code",
   "execution_count": 3,
   "metadata": {},
   "outputs": [],
   "source": [
    "df_good = pd.read_csv('./dataset/data_확장기.csv')\n",
    "df_bad = pd.read_csv('./dataset/data_수축기.csv')\n",
    "df_change = pd.read_csv('./dataset/data_전환기.csv')\n",
    "df_all = pd.read_csv('./dataset/data_전체.csv')\n",
    "\n",
    "df_good.drop(['거래소코드', '회사명', '회계년도'], axis=1, inplace=True)\n",
    "df_bad.drop(['거래소코드', '회사명', '회계년도'], axis=1, inplace=True)\n",
    "df_change.drop(['거래소코드', '회사명', '회계년도'], axis=1, inplace=True)\n",
    "df_all.drop(['거래소코드', '회사명', '회계년도'], axis=1, inplace=True)"
   ]
  },
  {
   "attachments": {},
   "cell_type": "markdown",
   "metadata": {},
   "source": [
    "#### 함수"
   ]
  },
  {
   "attachments": {},
   "cell_type": "markdown",
   "metadata": {},
   "source": [
    "##### train, test 분리, 데이터 불균형 처리, 스케일링"
   ]
  },
  {
   "cell_type": "code",
   "execution_count": 4,
   "metadata": {},
   "outputs": [],
   "source": [
    "def data(df):\n",
    "    # scaler : StandardScaler(), RobustScaler()\n",
    "\n",
    "    features = df.drop(['target'], axis=1)\n",
    "    target = df['target']\n",
    "\n",
    "    X_train, X_test, y_train, y_test = train_test_split(features, target, random_state=121, stratify=target, test_size=0.2)\n",
    "    \n",
    "    X_train, y_train = BorderlineSMOTE(random_state=121, sampling_strategy = 'not majority').fit_resample(X_train, y_train)\n",
    "    \n",
    "    scaler = StandardScaler()\n",
    "    X_train = scaler.fit_transform(X_train)\n",
    "    X_test = scaler.transform(X_test)\n",
    "    \n",
    "    return X_train, X_test, y_train, y_test"
   ]
  },
  {
   "attachments": {},
   "cell_type": "markdown",
   "metadata": {},
   "source": [
    "##### 모델 평가"
   ]
  },
  {
   "cell_type": "code",
   "execution_count": 5,
   "metadata": {},
   "outputs": [],
   "source": [
    "def score(y_test, pred):\n",
    "    \n",
    "    print('accuracy score : {0:.3f}'.format(accuracy_score(y_test, pred)))\n",
    "    print('precision score : {0:.3f}'.format(precision_score(y_test, pred)))\n",
    "    print('recall score : {0:.3f}'.format(recall_score(y_test, pred)))\n",
    "    print('f1 score : {0:.3f}'.format(f1_score(y_test, pred)))\n",
    "    print('roc score : {0:.3f}'.format(roc_auc_score(y_test, pred)))\n",
    "    \n",
    "    cm = confusion_matrix(y_test, pred)\n",
    "    sns.heatmap(cm, annot=True, annot_kws={\"size\": 20}, cmap='YlOrBr', fmt='g')\n",
    "    plt.xlabel('Predicted', fontsize=20)\n",
    "    plt.ylabel('Actual', fontsize=20)"
   ]
  },
  {
   "cell_type": "code",
   "execution_count": 6,
   "metadata": {},
   "outputs": [],
   "source": [
    "def get_f1_score(y_test, pred_proba_1):\n",
    "    thresholds = [0.2,0.3,0.4,0.5,0.6,0.7,0.8,0.9]\n",
    "    accuracys = []\n",
    "    precisions = []\n",
    "    recalls = []\n",
    "    f1_scores = []\n",
    "    auc_scores=[]\n",
    "\n",
    "    for threshold in thresholds:\n",
    "        binarizer = Binarizer(threshold = threshold)\n",
    "        pred_proba = binarizer.fit_transform(pred_proba_1)\n",
    "\n",
    "        accuracy = accuracy_score(y_test, pred_proba)\n",
    "        precision = precision_score(y_test, pred_proba)\n",
    "        recall = recall_score(y_test, pred_proba)\n",
    "        f1score = f1_score(y_test, pred_proba)\n",
    "        auc_score=roc_auc_score(y_test, pred_proba)\n",
    "\n",
    "        accuracys.append(accuracy)\n",
    "        precisions.append(precision)\n",
    "        recalls.append(recall)\n",
    "        f1_scores.append(f1score)\n",
    "        auc_scores.append(auc_score)\n",
    "    results = pd.DataFrame(data = {\"Accuracy\": accuracys, \"Precision\": precisions, \"Recall\": recalls, \"F1 score\": f1_scores,\"Auc_Score\":auc_scores}, index = thresholds)\n",
    "    print(results)"
   ]
  },
  {
   "attachments": {},
   "cell_type": "markdown",
   "metadata": {},
   "source": [
    "##### 모델링"
   ]
  },
  {
   "cell_type": "code",
   "execution_count": 7,
   "metadata": {},
   "outputs": [],
   "source": [
    "def LR(df):\n",
    "    X_train, X_test, y_train, y_test = data(df)\n",
    "\n",
    "    logistic = LogisticRegression()\n",
    "\n",
    "    param_logit = {'penalty' : ['l1', 'l2'],\n",
    "                   'C' : [0.001, 0.01, 0.1, 1, 10, 100],\n",
    "                   'solver' : ['liblinear'],\n",
    "                   'random_state' : [121],\n",
    "                   'class_weight' : ['balanced']}\n",
    "\n",
    "    gridsearch = GridSearchCV(logistic, param_grid = param_logit, cv=5, n_jobs=-1, scoring='f1', verbose=0, refit=True)\n",
    "    gridsearch.fit(X_train, y_train)\n",
    "\n",
    "    print('최적 파라미터\\n', gridsearch.best_params_)\n",
    "    print('학습 데이터 정확도 : ', gridsearch.best_score_)\n",
    "\n",
    "    estimator = gridsearch.best_estimator_\n",
    "    pred = pd.DataFrame(estimator.predict(X_test))\n",
    "    # pred = estimator.predict(X_test)\n",
    "    pred_probability = pd.DataFrame(estimator.predict_proba(X_test))\n",
    "    print('\\n예측 데이터 정확도')\n",
    "    score(y_test, pred)\n",
    "\n",
    "    prediction = pd.concat([pred_probability, pred], axis = 1)\n",
    "    prediction.columns = [\"Negative(0)\", \"Positive(1)\", \"y_pred\"]\n",
    "    pred_proba_1 = np.array(prediction[\"Positive(1)\"]).reshape(-1, 1)\n",
    " \n",
    "    print(get_f1_score(y_test, pred_proba_1))\n",
    "\n",
    "\n",
    "    # model_coef = pd.Series(best_model.best_estimator_.regressor_.coef_[0], df.drop(['target']).columns).sort_values(ascending=False)\n",
    "    # model_coef"
   ]
  },
  {
   "cell_type": "code",
   "execution_count": 8,
   "metadata": {},
   "outputs": [],
   "source": [
    "def DT(df):\n",
    "    X_train, X_test, y_train, y_test = data(df)\n",
    "\n",
    "    dt = DecisionTreeClassifier()\n",
    "    param_dt = { 'criterion' : ['entropy'],   #giny : 속도 더 빠름, #엔트로피 : 균형적인 트리\n",
    "                    'splitter' : ['best'],\n",
    "                    'random_state' : [121],\n",
    "                    'max_depth' : [5, 6, 7],\n",
    "                    'min_samples_split' : [3, 5],\n",
    "                    'class_weight' : ['balanced']}\n",
    "    \n",
    "    gridsearch = GridSearchCV(dt, param_grid = param_dt, cv=5, n_jobs=-1, scoring='f1', verbose=0, refit=True)\n",
    "    gridsearch.fit(X_train, y_train)\n",
    "\n",
    "    print('최적 파라미터\\n', gridsearch.best_params_)\n",
    "    print('학습 데이터 정확도 : ', gridsearch.best_score_)\n",
    "\n",
    "    estimator = gridsearch.best_estimator_\n",
    "    pred = pd.DataFrame(estimator.predict(X_test))\n",
    "    # pred = estimator.predict(X_test)\n",
    "    pred_probability = pd.DataFrame(estimator.predict_proba(X_test))\n",
    "    print('\\n예측 데이터 정확도')\n",
    "    score(y_test, pred)\n",
    "\n",
    "    prediction = pd.concat([pred_probability, pred], axis = 1)\n",
    "    prediction.columns = [\"Negative(0)\", \"Positive(1)\", \"y_pred\"]\n",
    "    pred_proba_1 = np.array(prediction[\"Positive(1)\"]).reshape(-1, 1)\n",
    " \n",
    "    print(get_f1_score(y_test, pred_proba_1))\n",
    "\n",
    "    return gridsearch.fit(X_train, y_train)"
   ]
  },
  {
   "cell_type": "code",
   "execution_count": 9,
   "metadata": {},
   "outputs": [],
   "source": [
    "def SVM(df, kernel):\n",
    "    X_train, X_test, y_train, y_test = data(df)\n",
    "\n",
    "    svc = SVC()\n",
    "    param_svc = {'C' : [0.1, 0.5, 1.0],\n",
    "                    'kernel' : [kernel],\n",
    "                    'gamma' : [0.01, 0.1, 1.0, 10.0],\n",
    "                    'random_state' : [121],\n",
    "                    'class_weight' : ['balanced']}\n",
    "    \n",
    "    gridsearch = GridSearchCV(svc, param_grid = param_svc, cv=5, n_jobs=-1, scoring='f1', verbose=0, refit=True)\n",
    "    gridsearch.fit(X_train, y_train)\n",
    "\n",
    "    print('최적 파라미터\\n', gridsearch.best_params_)\n",
    "    print('학습 데이터 정확도 : ', gridsearch.best_score_)\n",
    "\n",
    "    estimator = gridsearch.best_estimator_\n",
    "    pred = pd.DataFrame(estimator.predict(X_test))\n",
    "    pred = estimator.predict(X_test)\n",
    "    # pred_probability = pd.DataFrame(estimator.predict_proba(X_test))\n",
    "    print('\\n예측 데이터 정확도')\n",
    "    score(y_test, pred)\n",
    "\n",
    "    # prediction = pd.concat([pred_probability, pred], axis = 1)\n",
    "    # prediction.columns = [\"Negative(0)\", \"Positive(1)\", \"y_pred\"]\n",
    "    # pred_proba_1 = np.array(prediction[\"Positive(1)\"]).reshape(-1, 1)\n",
    " \n",
    "    # print(get_f1_score(y_test, pred_proba_1))"
   ]
  },
  {
   "cell_type": "code",
   "execution_count": 10,
   "metadata": {},
   "outputs": [],
   "source": [
    "def XGB(df):\n",
    "    X_train, X_test, y_train, y_test = data(df)\n",
    "\n",
    "    xgb = XGBClassifier()\n",
    "    param_xgb={'booster' :['gbtree'],\n",
    "               'silent' : [1],\n",
    "               'verbosity' : [0],\n",
    "               'learning_rate' : [0.01, 0.05, 0.1],    # 나중에 한 번 더 확인\n",
    "               'n_estimators' : [500],\n",
    "               'min_child_weight' : [3, 5, 7],  ###\n",
    "               'gamma' : [0.1, 1.0, 10.0],    ###\n",
    "               'max_depth' : [4, 6],     ###\n",
    "               'objective':['binary:logistic'],\n",
    "               'colsample_bytree' : [0.6, 0.8],\n",
    "               'colsample_bylevel' : [0.6, 0.8],\n",
    "               'random_state' : [121],\n",
    "               'scale_pos_weight' : [ len(df[df['target']==0])/len(df[df['target']==1]) ]\n",
    "                }\n",
    "\n",
    "    gridsearch = GridSearchCV(xgb, param_grid = param_xgb, cv=5, n_jobs=-1, scoring='f1', verbose=0, refit=True)\n",
    "    gridsearch.fit(X_train, y_train)\n",
    "    \n",
    "    print('최적 파라미터\\n', gridsearch.best_params_)\n",
    "    print('학습 데이터 정확도 : ', gridsearch.best_score_)\n",
    "\n",
    "    estimator = gridsearch.best_estimator_\n",
    "    pred = pd.DataFrame(estimator.predict(X_test))\n",
    "    # pred = estimator.predict(X_test)\n",
    "    pred_probability = pd.DataFrame(estimator.predict_proba(X_test))\n",
    "    print('\\n예측 데이터 정확도')\n",
    "    score(y_test, pred)\n",
    "\n",
    "    prediction = pd.concat([pred_probability, pred], axis = 1)\n",
    "    prediction.columns = [\"Negative(0)\", \"Positive(1)\", \"y_pred\"]\n",
    "    pred_proba_1 = np.array(prediction[\"Positive(1)\"]).reshape(-1, 1)\n",
    " \n",
    "    print(get_f1_score(y_test, pred_proba_1))"
   ]
  },
  {
   "attachments": {},
   "cell_type": "markdown",
   "metadata": {},
   "source": [
    "#### Feature Selection"
   ]
  },
  {
   "cell_type": "code",
   "execution_count": 11,
   "metadata": {},
   "outputs": [],
   "source": [
    "rfe_good = df_good[['유동비율', 'OCF', '총자본경상이익률', '자기자본영업이익률', '총자본회전율', '자기자본회전율', '유형자산증가율', '순이익증가율', 'target']]\n",
    "sfm_rf_good = df_good[['부채비율', 'OCF', '총자산이익률', '총자본경상이익률', '자기자본순이익률', '자기자본영업이익률', '총자본회전율', '자기자본회전율', '순이익증가율', 'target']]\n",
    "sfm_lr_good = df_good[['자기자본비율', '차입금의존도', '총자산이익률', '총자본경상이익률', '자기자본영업이익률', '매출원가율', '총자본회전율', '총자본증가율', '유형자산증가율', 'target']]\n",
    "sfm_pi_good = df_good[['자기자본영업이익률', '총자본회전율', '총자산이익률', '총자본경상이익률', '순이익증가율', '자기자본회전율', '유동비율', 'OCF', 'target']]"
   ]
  },
  {
   "cell_type": "code",
   "execution_count": 12,
   "metadata": {},
   "outputs": [],
   "source": [
    "rfe_bad = df_bad[['유동비율', 'OCF', '총자본경상이익률', '자기자본영업이익률', '총자본회전율', '자기자본회전율', 'target']]\n",
    "sfm_rf_bad = df_bad[['부채비율', 'OCF', '총자산이익률', '총자본경상이익률', '자기자본순이익률', '자기자본영업이익률', '총자본회전율', '자기자본회전율', '순이익증가율', 'target']]\n",
    "sfm_lr_bad = df_bad[['자기자본비율', '유동비율', '차입금의존도', '자기자본영업이익률', '매출원가율', '총자본회전율', '자기자본회전율', '총자본증가율', '유형자산증가율', 'target']]\n",
    "sfm_pi_bad = df_bad[['자기자본영업이익률', '총자본회전율', '총자본경상이익률', '총자산이익률', '순이익증가율', '자기자본회전율', '유동비율', 'OCF', 'target']]"
   ]
  },
  {
   "attachments": {},
   "cell_type": "markdown",
   "metadata": {},
   "source": [
    "#### 확장기"
   ]
  },
  {
   "attachments": {},
   "cell_type": "markdown",
   "metadata": {},
   "source": [
    "##### Recursive Feature Elimination"
   ]
  },
  {
   "cell_type": "code",
   "execution_count": 13,
   "metadata": {},
   "outputs": [
    {
     "name": "stdout",
     "output_type": "stream",
     "text": [
      "최적 파라미터\n",
      " {'C': 0.001, 'class_weight': 'balanced', 'penalty': 'l1', 'random_state': 121, 'solver': 'liblinear'}\n",
      "학습 데이터 정확도 :  0.8630189400899605\n",
      "\n",
      "예측 데이터 정확도\n",
      "accuracy score : 0.809\n",
      "precision score : 0.338\n",
      "recall score : 0.843\n",
      "f1 score : 0.483\n",
      "roc score : 0.824\n"
     ]
    },
    {
     "name": "stderr",
     "output_type": "stream",
     "text": [
      "findfont: Font family ['AppleGothic'] not found. Falling back to DejaVu Sans.\n",
      "findfont: Font family ['AppleGothic'] not found. Falling back to DejaVu Sans.\n"
     ]
    },
    {
     "name": "stdout",
     "output_type": "stream",
     "text": [
      "         Accuracy  Precision  Recall  F1 score  Auc_Score\n",
      "0.20000   0.58350    0.19812 0.96612   0.32881    0.75223\n",
      "0.30000   0.68148    0.24097 0.93789   0.38343    0.79455\n",
      "0.40000   0.75621    0.28963 0.90088   0.43834    0.82000\n",
      "0.50000   0.80927    0.33820 0.84253   0.48266    0.82394\n",
      "0.60000   0.84631    0.38469 0.75972   0.51075    0.80813\n",
      "0.70000   0.86764    0.41441 0.61355   0.49469    0.75559\n",
      "0.80000   0.87565    0.41388 0.42660   0.42014    0.67764\n",
      "0.90000   0.87970    0.37556 0.21016   0.26951    0.58445\n",
      "None\n"
     ]
    },
    {
     "data": {
      "image/png": "[encoded data removed]",
      "text/plain": [
       "<Figure size 432x288 with 2 Axes>"
      ]
     },
     "metadata": {
      "needs_background": "light"
     },
     "output_type": "display_data"
    }
   ],
   "source": [
    "LR(rfe_good)"
   ]
  },
  {
   "cell_type": "code",
   "execution_count": 14,
   "metadata": {},
   "outputs": [
    {
     "name": "stdout",
     "output_type": "stream",
     "text": [
      "최적 파라미터\n",
      " {'class_weight': 'balanced', 'criterion': 'entropy', 'max_depth': 7, 'min_samples_split': 3, 'random_state': 121, 'splitter': 'best'}\n",
      "학습 데이터 정확도 :  0.9203861675012197\n",
      "\n",
      "예측 데이터 정확도\n",
      "accuracy score : 0.873\n",
      "precision score : 0.449\n",
      "recall score : 0.901\n",
      "f1 score : 0.600\n",
      "roc score : 0.885\n",
      "         Accuracy  Precision  Recall  F1 score  Auc_Score\n",
      "0.20000   0.85041    0.41032 0.95295   0.57364    0.89563\n",
      "0.30000   0.86452    0.43420 0.93350   0.59271    0.89494\n",
      "0.40000   0.86645    0.43743 0.92535   0.59404    0.89242\n",
      "0.50000   0.87300    0.44945 0.90088   0.59971    0.88530\n",
      "0.60000   0.88029    0.46316 0.84003   0.59710    0.86254\n",
      "0.70000   0.88062    0.46154 0.78294   0.58074    0.83755\n",
      "0.80000   0.89513    0.50271 0.64053   0.56331    0.78286\n",
      "0.90000   0.90414    0.56120 0.42284   0.48229    0.69190\n",
      "None\n"
     ]
    },
    {
     "data": {
      "text/plain": [
       "GridSearchCV(cv=5, estimator=DecisionTreeClassifier(), n_jobs=-1,\n",
       "             param_grid={'class_weight': ['balanced'], 'criterion': ['entropy'],\n",
       "                         'max_depth': [5, 6, 7], 'min_samples_split': [3, 5],\n",
       "                         'random_state': [121], 'splitter': ['best']},\n",
       "             scoring='f1')"
      ]
     },
     "execution_count": 14,
     "metadata": {},
     "output_type": "execute_result"
    },
    {
     "data": {
      "image/png": "[encoded data removed]",
      "text/plain": [
       "<Figure size 432x288 with 2 Axes>"
      ]
     },
     "metadata": {
      "needs_background": "light"
     },
     "output_type": "display_data"
    }
   ],
   "source": [
    "DT(rfe_good)"
   ]
  },
  {
   "cell_type": "code",
   "execution_count": 15,
   "metadata": {},
   "outputs": [],
   "source": [
    "# SVM(rfe_good, 'rbf')"
   ]
  },
  {
   "cell_type": "code",
   "execution_count": 16,
   "metadata": {},
   "outputs": [],
   "source": [
    "# XGB(rfe_good)"
   ]
  },
  {
   "attachments": {},
   "cell_type": "markdown",
   "metadata": {},
   "source": [
    "##### SelectFromModel_RandomForest"
   ]
  },
  {
   "cell_type": "code",
   "execution_count": 17,
   "metadata": {},
   "outputs": [
    {
     "name": "stdout",
     "output_type": "stream",
     "text": [
      "최적 파라미터\n",
      " {'C': 0.001, 'class_weight': 'balanced', 'penalty': 'l1', 'random_state': 121, 'solver': 'liblinear'}\n",
      "학습 데이터 정확도 :  0.8635014510193993\n",
      "\n",
      "예측 데이터 정확도\n",
      "accuracy score : 0.811\n",
      "precision score : 0.342\n",
      "recall score : 0.854\n",
      "f1 score : 0.489\n",
      "roc score : 0.830\n",
      "         Accuracy  Precision  Recall  F1 score  Auc_Score\n",
      "0.20000   0.58417    0.19822 0.96487   0.32888    0.75204\n",
      "0.30000   0.68095    0.24058 0.93726   0.38288    0.79398\n",
      "0.40000   0.75588    0.28934 0.90088   0.43801    0.81982\n",
      "0.50000   0.81139    0.34239 0.85383   0.48878    0.83011\n",
      "0.60000   0.84750    0.38625 0.75408   0.51084    0.80630\n",
      "0.70000   0.86890    0.41720 0.60853   0.49502    0.75408\n",
      "0.80000   0.87698    0.41967 0.43099   0.42526    0.68031\n",
      "0.90000   0.88175    0.39494 0.22522   0.28686    0.59224\n",
      "None\n"
     ]
    },
    {
     "data": {
      "image/png": "[encoded data removed]",
      "text/plain": [
       "<Figure size 432x288 with 2 Axes>"
      ]
     },
     "metadata": {
      "needs_background": "light"
     },
     "output_type": "display_data"
    }
   ],
   "source": [
    "LR(sfm_rf_good)"
   ]
  },
  {
   "cell_type": "code",
   "execution_count": 18,
   "metadata": {},
   "outputs": [
    {
     "name": "stdout",
     "output_type": "stream",
     "text": [
      "최적 파라미터\n",
      " {'class_weight': 'balanced', 'criterion': 'entropy', 'max_depth': 7, 'min_samples_split': 3, 'random_state': 121, 'splitter': 'best'}\n",
      "학습 데이터 정확도 :  0.9203334697419499\n",
      "\n",
      "예측 데이터 정확도\n",
      "accuracy score : 0.876\n",
      "precision score : 0.455\n",
      "recall score : 0.898\n",
      "f1 score : 0.604\n",
      "roc score : 0.886\n",
      "         Accuracy  Precision  Recall  F1 score  Auc_Score\n",
      "0.20000   0.84644    0.40418 0.95797   0.56850    0.89562\n",
      "0.30000   0.86154    0.42865 0.93476   0.58777    0.89383\n",
      "0.40000   0.86327    0.43177 0.93287   0.59031    0.89396\n",
      "0.50000   0.87572    0.45518 0.89837   0.60422    0.88571\n",
      "0.60000   0.87883    0.45980 0.84316   0.59509    0.86310\n",
      "0.70000   0.88440    0.47100 0.76913   0.58423    0.83357\n",
      "0.80000   0.89526    0.50313 0.65558   0.56933    0.78957\n",
      "0.90000   0.90222    0.60424 0.21455   0.31667    0.59898\n",
      "None\n"
     ]
    },
    {
     "data": {
      "text/plain": [
       "GridSearchCV(cv=5, estimator=DecisionTreeClassifier(), n_jobs=-1,\n",
       "             param_grid={'class_weight': ['balanced'], 'criterion': ['entropy'],\n",
       "                         'max_depth': [5, 6, 7], 'min_samples_split': [3, 5],\n",
       "                         'random_state': [121], 'splitter': ['best']},\n",
       "             scoring='f1')"
      ]
     },
     "execution_count": 18,
     "metadata": {},
     "output_type": "execute_result"
    },
    {
     "data": {
      "image/png": "[encoded data removed]",
      "text/plain": [
       "<Figure size 432x288 with 2 Axes>"
      ]
     },
     "metadata": {
      "needs_background": "light"
     },
     "output_type": "display_data"
    }
   ],
   "source": [
    "DT(sfm_rf_good)"
   ]
  },
  {
   "cell_type": "code",
   "execution_count": 19,
   "metadata": {},
   "outputs": [],
   "source": [
    "# SVM(sfm_rf_good, 'rbf')"
   ]
  },
  {
   "cell_type": "code",
   "execution_count": 20,
   "metadata": {},
   "outputs": [],
   "source": [
    "# XGB(sfm_rf_good)"
   ]
  },
  {
   "attachments": {},
   "cell_type": "markdown",
   "metadata": {},
   "source": [
    "##### SelectFromModel_Logistic Regression"
   ]
  },
  {
   "cell_type": "code",
   "execution_count": 21,
   "metadata": {},
   "outputs": [
    {
     "name": "stdout",
     "output_type": "stream",
     "text": [
      "최적 파라미터\n",
      " {'C': 0.001, 'class_weight': 'balanced', 'penalty': 'l1', 'random_state': 121, 'solver': 'liblinear'}\n",
      "학습 데이터 정확도 :  0.8376163529559622\n",
      "\n",
      "예측 데이터 정확도\n",
      "accuracy score : 0.803\n",
      "precision score : 0.331\n",
      "recall score : 0.854\n",
      "f1 score : 0.477\n",
      "roc score : 0.825\n",
      "         Accuracy  Precision  Recall  F1 score  Auc_Score\n",
      "0.20000   0.52189    0.17938 0.98683   0.30358    0.72691\n",
      "0.30000   0.65598    0.22993 0.96110   0.37108    0.79053\n",
      "0.40000   0.74621    0.28361 0.91970   0.43354    0.82271\n",
      "0.50000   0.80258    0.33130 0.85383   0.47738    0.82518\n",
      "0.60000   0.84346    0.37782 0.74592   0.50158    0.80045\n",
      "0.70000   0.85876    0.38087 0.53952   0.44652    0.71799\n",
      "0.80000   0.86433    0.35411 0.34567   0.34984    0.63562\n",
      "0.90000   0.87261    0.31286 0.17252   0.22240    0.56389\n",
      "None\n"
     ]
    },
    {
     "data": {
      "image/png": "[encoded data removed]",
      "text/plain": [
       "<Figure size 432x288 with 2 Axes>"
      ]
     },
     "metadata": {
      "needs_background": "light"
     },
     "output_type": "display_data"
    }
   ],
   "source": [
    "LR(sfm_lr_good)"
   ]
  },
  {
   "cell_type": "code",
   "execution_count": 22,
   "metadata": {},
   "outputs": [
    {
     "name": "stdout",
     "output_type": "stream",
     "text": [
      "최적 파라미터\n",
      " {'class_weight': 'balanced', 'criterion': 'entropy', 'max_depth': 7, 'min_samples_split': 3, 'random_state': 121, 'splitter': 'best'}\n",
      "학습 데이터 정확도 :  0.9064744221874855\n",
      "\n",
      "예측 데이터 정확도\n",
      "accuracy score : 0.833\n",
      "precision score : 0.383\n",
      "recall score : 0.962\n",
      "f1 score : 0.548\n",
      "roc score : 0.890\n",
      "         Accuracy  Precision  Recall  F1 score  Auc_Score\n",
      "0.20000   0.80815    0.35488 0.99875   0.52368    0.89220\n",
      "0.30000   0.82392    0.37429 0.99373   0.54377    0.89880\n",
      "0.40000   0.83259    0.38335 0.96173   0.54819    0.88954\n",
      "0.50000   0.83259    0.38335 0.96173   0.54819    0.88954\n",
      "0.60000   0.84200    0.39534 0.93726   0.55611    0.88401\n",
      "0.70000   0.86240    0.42639 0.87767   0.57395    0.86913\n",
      "0.80000   0.89109    0.48933 0.71895   0.58232    0.81518\n",
      "0.90000   0.90527    0.56366 0.45546   0.50382    0.70692\n",
      "None\n"
     ]
    },
    {
     "data": {
      "text/plain": [
       "GridSearchCV(cv=5, estimator=DecisionTreeClassifier(), n_jobs=-1,\n",
       "             param_grid={'class_weight': ['balanced'], 'criterion': ['entropy'],\n",
       "                         'max_depth': [5, 6, 7], 'min_samples_split': [3, 5],\n",
       "                         'random_state': [121], 'splitter': ['best']},\n",
       "             scoring='f1')"
      ]
     },
     "execution_count": 22,
     "metadata": {},
     "output_type": "execute_result"
    },
    {
     "data": {
      "image/png": "[encoded data removed]",
      "text/plain": [
       "<Figure size 432x288 with 2 Axes>"
      ]
     },
     "metadata": {
      "needs_background": "light"
     },
     "output_type": "display_data"
    }
   ],
   "source": [
    "DT(sfm_lr_good)"
   ]
  },
  {
   "cell_type": "code",
   "execution_count": 23,
   "metadata": {},
   "outputs": [],
   "source": [
    "# SVM(sfm_lr_good, 'rbf')"
   ]
  },
  {
   "cell_type": "code",
   "execution_count": 24,
   "metadata": {},
   "outputs": [],
   "source": [
    "# XGB(sfm_lr_good)"
   ]
  },
  {
   "attachments": {},
   "cell_type": "markdown",
   "metadata": {},
   "source": [
    "##### Permutation Importance"
   ]
  },
  {
   "cell_type": "code",
   "execution_count": 25,
   "metadata": {},
   "outputs": [
    {
     "name": "stdout",
     "output_type": "stream",
     "text": [
      "최적 파라미터\n",
      " {'C': 0.001, 'class_weight': 'balanced', 'penalty': 'l1', 'random_state': 121, 'solver': 'liblinear'}\n",
      "학습 데이터 정확도 :  0.8620281069347175\n",
      "\n",
      "예측 데이터 정확도\n",
      "accuracy score : 0.811\n",
      "precision score : 0.340\n",
      "recall score : 0.847\n",
      "f1 score : 0.486\n",
      "roc score : 0.827\n",
      "         Accuracy  Precision  Recall  F1 score  Auc_Score\n",
      "0.20000   0.58158    0.19715 0.96424   0.32737    0.75032\n",
      "0.30000   0.68162    0.24105 0.93789   0.38353    0.79463\n",
      "0.40000   0.75787    0.29127 0.90213   0.44036    0.82148\n",
      "0.50000   0.81053    0.34039 0.84693   0.48561    0.82658\n",
      "0.60000   0.84717    0.38686 0.76474   0.51380    0.81082\n",
      "0.70000   0.86744    0.41300 0.60602   0.49123    0.75216\n",
      "0.80000   0.87565    0.41409 0.42785   0.42086    0.67819\n",
      "0.90000   0.88023    0.38111 0.21518   0.27506    0.58696\n",
      "None\n"
     ]
    },
    {
     "data": {
      "image/png": "[encoded data removed]",
      "text/plain": [
       "<Figure size 432x288 with 2 Axes>"
      ]
     },
     "metadata": {
      "needs_background": "light"
     },
     "output_type": "display_data"
    }
   ],
   "source": [
    "LR(sfm_pi_good)"
   ]
  },
  {
   "cell_type": "code",
   "execution_count": 26,
   "metadata": {},
   "outputs": [
    {
     "name": "stdout",
     "output_type": "stream",
     "text": [
      "최적 파라미터\n",
      " {'class_weight': 'balanced', 'criterion': 'entropy', 'max_depth': 7, 'min_samples_split': 3, 'random_state': 121, 'splitter': 'best'}\n",
      "학습 데이터 정확도 :  0.9225566622892194\n",
      "\n",
      "예측 데이터 정확도\n",
      "accuracy score : 0.875\n",
      "precision score : 0.453\n",
      "recall score : 0.895\n",
      "f1 score : 0.601\n",
      "roc score : 0.884\n",
      "         Accuracy  Precision  Recall  F1 score  Auc_Score\n",
      "0.20000   0.85207    0.41301 0.95169   0.57604    0.89600\n",
      "0.30000   0.86479    0.43531 0.94354   0.59576    0.89952\n",
      "0.40000   0.87062    0.44549 0.92033   0.60037    0.89254\n",
      "0.50000   0.87466    0.45273 0.89523   0.60135    0.88373\n",
      "0.60000   0.88427    0.47219 0.81493   0.59793    0.85369\n",
      "0.70000   0.88374    0.47020 0.79674   0.59139    0.84537\n",
      "0.80000   0.89559    0.50379 0.75094   0.60302    0.83181\n",
      "0.90000   0.89884    0.53300 0.33940   0.41472    0.65214\n",
      "None\n"
     ]
    },
    {
     "data": {
      "text/plain": [
       "GridSearchCV(cv=5, estimator=DecisionTreeClassifier(), n_jobs=-1,\n",
       "             param_grid={'class_weight': ['balanced'], 'criterion': ['entropy'],\n",
       "                         'max_depth': [5, 6, 7], 'min_samples_split': [3, 5],\n",
       "                         'random_state': [121], 'splitter': ['best']},\n",
       "             scoring='f1')"
      ]
     },
     "execution_count": 26,
     "metadata": {},
     "output_type": "execute_result"
    },
    {
     "data": {
      "image/png": "[encoded data removed]",
      "text/plain": [
       "<Figure size 432x288 with 2 Axes>"
      ]
     },
     "metadata": {
      "needs_background": "light"
     },
     "output_type": "display_data"
    }
   ],
   "source": [
    "DT(sfm_pi_good)"
   ]
  },
  {
   "cell_type": "code",
   "execution_count": 27,
   "metadata": {},
   "outputs": [],
   "source": [
    "# SVM(sfm_pi_good, 'rbf')"
   ]
  },
  {
   "cell_type": "code",
   "execution_count": 28,
   "metadata": {},
   "outputs": [],
   "source": [
    "# XGB(sfm_pi_good)"
   ]
  },
  {
   "attachments": {},
   "cell_type": "markdown",
   "metadata": {},
   "source": [
    "#### 수축기"
   ]
  },
  {
   "attachments": {},
   "cell_type": "markdown",
   "metadata": {},
   "source": [
    "##### Recursive Feature Elimination"
   ]
  },
  {
   "cell_type": "code",
   "execution_count": 29,
   "metadata": {},
   "outputs": [
    {
     "name": "stdout",
     "output_type": "stream",
     "text": [
      "최적 파라미터\n",
      " {'C': 0.001, 'class_weight': 'balanced', 'penalty': 'l1', 'random_state': 121, 'solver': 'liblinear'}\n",
      "학습 데이터 정확도 :  0.8515896645819316\n",
      "\n",
      "예측 데이터 정확도\n",
      "accuracy score : 0.781\n",
      "precision score : 0.263\n",
      "recall score : 0.869\n",
      "f1 score : 0.403\n",
      "roc score : 0.821\n",
      "         Accuracy  Precision  Recall  F1 score  Auc_Score\n",
      "0.20000   0.49278    0.14154 0.97983   0.24735    0.71367\n",
      "0.30000   0.62144    0.17831 0.95630   0.30058    0.77331\n",
      "0.40000   0.71594    0.22093 0.92605   0.35675    0.81123\n",
      "0.50000   0.78142    0.26270 0.86891   0.40343    0.82109\n",
      "0.60000   0.83159    0.30708 0.77983   0.44065    0.80812\n",
      "0.70000   0.85904    0.31434 0.55630   0.40170    0.72175\n",
      "0.80000   0.87634    0.29790 0.33445   0.31512    0.63059\n",
      "0.90000   0.89078    0.22830 0.11933   0.15673    0.54091\n",
      "None\n"
     ]
    },
    {
     "data": {
      "image/png": "[encoded data removed]",
      "text/plain": [
       "<Figure size 432x288 with 2 Axes>"
      ]
     },
     "metadata": {
      "needs_background": "light"
     },
     "output_type": "display_data"
    }
   ],
   "source": [
    "LR(rfe_bad)"
   ]
  },
  {
   "cell_type": "code",
   "execution_count": 30,
   "metadata": {},
   "outputs": [
    {
     "name": "stdout",
     "output_type": "stream",
     "text": [
      "최적 파라미터\n",
      " {'class_weight': 'balanced', 'criterion': 'entropy', 'max_depth': 7, 'min_samples_split': 5, 'random_state': 121, 'splitter': 'best'}\n",
      "학습 데이터 정확도 :  0.9058186858929578\n",
      "\n",
      "예측 데이터 정확도\n",
      "accuracy score : 0.841\n",
      "precision score : 0.329\n",
      "recall score : 0.840\n",
      "f1 score : 0.473\n",
      "roc score : 0.841\n",
      "         Accuracy  Precision  Recall  F1 score  Auc_Score\n",
      "0.20000   0.80829    0.29903 0.93277   0.45288    0.86475\n",
      "0.30000   0.80872    0.29755 0.91765   0.44938    0.85812\n",
      "0.40000   0.83603    0.32598 0.86891   0.47409    0.85094\n",
      "0.50000   0.84089    0.32938 0.84034   0.47326    0.84064\n",
      "0.60000   0.84203    0.32724 0.81176   0.46644    0.82830\n",
      "0.70000   0.84746    0.33262 0.78824   0.46783    0.82060\n",
      "0.80000   0.89350    0.38462 0.42017   0.40161    0.67883\n",
      "0.90000   0.89521    0.36417 0.31092   0.33545    0.63023\n",
      "None\n"
     ]
    },
    {
     "data": {
      "text/plain": [
       "GridSearchCV(cv=5, estimator=DecisionTreeClassifier(), n_jobs=-1,\n",
       "             param_grid={'class_weight': ['balanced'], 'criterion': ['entropy'],\n",
       "                         'max_depth': [5, 6, 7], 'min_samples_split': [3, 5],\n",
       "                         'random_state': [121], 'splitter': ['best']},\n",
       "             scoring='f1')"
      ]
     },
     "execution_count": 30,
     "metadata": {},
     "output_type": "execute_result"
    },
    {
     "data": {
      "image/png": "[encoded data removed]",
      "text/plain": [
       "<Figure size 432x288 with 2 Axes>"
      ]
     },
     "metadata": {
      "needs_background": "light"
     },
     "output_type": "display_data"
    }
   ],
   "source": [
    "DT(rfe_bad)"
   ]
  },
  {
   "cell_type": "code",
   "execution_count": 31,
   "metadata": {},
   "outputs": [],
   "source": [
    "# SVM(rfe_bad, 'rbf')"
   ]
  },
  {
   "cell_type": "code",
   "execution_count": 32,
   "metadata": {},
   "outputs": [],
   "source": [
    "# XGB(rfe_bad)"
   ]
  },
  {
   "attachments": {},
   "cell_type": "markdown",
   "metadata": {},
   "source": [
    "##### SelectFromModel_RandomForest"
   ]
  },
  {
   "cell_type": "code",
   "execution_count": 33,
   "metadata": {},
   "outputs": [
    {
     "name": "stdout",
     "output_type": "stream",
     "text": [
      "최적 파라미터\n",
      " {'C': 0.001, 'class_weight': 'balanced', 'penalty': 'l1', 'random_state': 121, 'solver': 'liblinear'}\n",
      "학습 데이터 정확도 :  0.8550730703377454\n",
      "\n",
      "예측 데이터 정확도\n",
      "accuracy score : 0.793\n",
      "precision score : 0.274\n",
      "recall score : 0.864\n",
      "f1 score : 0.416\n",
      "roc score : 0.825\n",
      "         Accuracy  Precision  Recall  F1 score  Auc_Score\n",
      "0.20000   0.49764    0.14289 0.98151   0.24947    0.71708\n",
      "0.30000   0.62802    0.18092 0.95630   0.30428    0.77690\n",
      "0.40000   0.72795    0.22818 0.92269   0.36588    0.81627\n",
      "0.50000   0.79328    0.27355 0.86387   0.41552    0.82529\n",
      "0.60000   0.83817    0.31078 0.74118   0.43793    0.79418\n",
      "0.70000   0.86362    0.32419 0.55630   0.40965    0.72425\n",
      "0.80000   0.88034    0.31611 0.34958   0.33200    0.63963\n",
      "0.90000   0.89350    0.25490 0.13109   0.17314    0.54773\n",
      "None\n"
     ]
    },
    {
     "data": {
      "image/png": "[encoded data removed]",
      "text/plain": [
       "<Figure size 432x288 with 2 Axes>"
      ]
     },
     "metadata": {
      "needs_background": "light"
     },
     "output_type": "display_data"
    }
   ],
   "source": [
    "LR(sfm_rf_bad)"
   ]
  },
  {
   "cell_type": "code",
   "execution_count": 34,
   "metadata": {},
   "outputs": [
    {
     "name": "stdout",
     "output_type": "stream",
     "text": [
      "최적 파라미터\n",
      " {'class_weight': 'balanced', 'criterion': 'entropy', 'max_depth': 7, 'min_samples_split': 5, 'random_state': 121, 'splitter': 'best'}\n",
      "학습 데이터 정확도 :  0.9098225550453201\n",
      "\n",
      "예측 데이터 정확도\n",
      "accuracy score : 0.848\n",
      "precision score : 0.341\n",
      "recall score : 0.847\n",
      "f1 score : 0.487\n",
      "roc score : 0.848\n",
      "         Accuracy  Precision  Recall  F1 score  Auc_Score\n",
      "0.20000   0.81229    0.30699 0.95966   0.46517    0.87913\n",
      "0.30000   0.81430    0.30828 0.95126   0.46565    0.87641\n",
      "0.40000   0.84117    0.33733 0.89916   0.49060    0.86747\n",
      "0.50000   0.84803    0.34146 0.84706   0.48672    0.84759\n",
      "0.60000   0.85032    0.34349 0.83361   0.48651    0.84274\n",
      "0.70000   0.87877    0.38100 0.68067   0.48854    0.78893\n",
      "0.80000   0.88849    0.40454 0.65882   0.50128    0.78433\n",
      "0.90000   0.90307    0.43423 0.46050   0.44698    0.70236\n",
      "None\n"
     ]
    },
    {
     "data": {
      "text/plain": [
       "GridSearchCV(cv=5, estimator=DecisionTreeClassifier(), n_jobs=-1,\n",
       "             param_grid={'class_weight': ['balanced'], 'criterion': ['entropy'],\n",
       "                         'max_depth': [5, 6, 7], 'min_samples_split': [3, 5],\n",
       "                         'random_state': [121], 'splitter': ['best']},\n",
       "             scoring='f1')"
      ]
     },
     "execution_count": 34,
     "metadata": {},
     "output_type": "execute_result"
    },
    {
     "data": {
      "image/png": "[encoded data removed]",
      "text/plain": [
       "<Figure size 432x288 with 2 Axes>"
      ]
     },
     "metadata": {
      "needs_background": "light"
     },
     "output_type": "display_data"
    }
   ],
   "source": [
    "DT(sfm_rf_bad)"
   ]
  },
  {
   "cell_type": "code",
   "execution_count": 35,
   "metadata": {},
   "outputs": [],
   "source": [
    "# SVM(sfm_rf_bad, 'rbf')"
   ]
  },
  {
   "cell_type": "code",
   "execution_count": 36,
   "metadata": {},
   "outputs": [],
   "source": [
    "# XGB(sfm_rf_bad)"
   ]
  },
  {
   "attachments": {},
   "cell_type": "markdown",
   "metadata": {},
   "source": [
    "##### SelectFromModel_Logistic Regression"
   ]
  },
  {
   "cell_type": "code",
   "execution_count": 37,
   "metadata": {},
   "outputs": [
    {
     "name": "stdout",
     "output_type": "stream",
     "text": [
      "최적 파라미터\n",
      " {'C': 0.001, 'class_weight': 'balanced', 'penalty': 'l1', 'random_state': 121, 'solver': 'liblinear'}\n",
      "학습 데이터 정확도 :  0.8535702151925193\n",
      "\n",
      "예측 데이터 정확도\n",
      "accuracy score : 0.787\n",
      "precision score : 0.270\n",
      "recall score : 0.879\n",
      "f1 score : 0.413\n",
      "roc score : 0.829\n",
      "         Accuracy  Precision  Recall  F1 score  Auc_Score\n",
      "0.20000   0.44031    0.13062 0.98655   0.23069    0.68804\n",
      "0.30000   0.59971    0.17197 0.97143   0.29221    0.76829\n",
      "0.40000   0.71251    0.22126 0.94454   0.35853    0.81774\n",
      "0.50000   0.78728    0.26973 0.87899   0.41279    0.82887\n",
      "0.60000   0.82945    0.28914 0.68908   0.40735    0.76579\n",
      "0.70000   0.85332    0.28557 0.48235   0.35875    0.68508\n",
      "0.80000   0.86633    0.22131 0.22689   0.22407    0.57634\n",
      "0.90000   0.88735    0.20489 0.11261   0.14534    0.53599\n",
      "None\n"
     ]
    },
    {
     "data": {
      "image/png": "[encoded data removed]",
      "text/plain": [
       "<Figure size 432x288 with 2 Axes>"
      ]
     },
     "metadata": {
      "needs_background": "light"
     },
     "output_type": "display_data"
    }
   ],
   "source": [
    "LR(sfm_lr_bad)"
   ]
  },
  {
   "cell_type": "code",
   "execution_count": 38,
   "metadata": {},
   "outputs": [
    {
     "name": "stdout",
     "output_type": "stream",
     "text": [
      "최적 파라미터\n",
      " {'class_weight': 'balanced', 'criterion': 'entropy', 'max_depth': 7, 'min_samples_split': 5, 'random_state': 121, 'splitter': 'best'}\n",
      "학습 데이터 정확도 :  0.8982552533333553\n",
      "\n",
      "예측 데이터 정확도\n",
      "accuracy score : 0.805\n",
      "precision score : 0.295\n",
      "recall score : 0.936\n",
      "f1 score : 0.449\n",
      "roc score : 0.864\n",
      "         Accuracy  Precision  Recall  F1 score  Auc_Score\n",
      "0.20000   0.78799    0.28171 0.96303   0.43591    0.86737\n",
      "0.30000   0.78799    0.28171 0.96303   0.43591    0.86737\n",
      "0.40000   0.79543    0.28760 0.95126   0.44167    0.86610\n",
      "0.50000   0.80472    0.29549 0.93613   0.44919    0.86432\n",
      "0.60000   0.83431    0.32614 0.88908   0.47722    0.85915\n",
      "0.70000   0.86905    0.37252 0.78824   0.50593    0.83240\n",
      "0.80000   0.88306    0.39511 0.70588   0.50663    0.80271\n",
      "0.90000   0.91279    0.48800 0.51261   0.50000    0.73130\n",
      "None\n"
     ]
    },
    {
     "data": {
      "text/plain": [
       "GridSearchCV(cv=5, estimator=DecisionTreeClassifier(), n_jobs=-1,\n",
       "             param_grid={'class_weight': ['balanced'], 'criterion': ['entropy'],\n",
       "                         'max_depth': [5, 6, 7], 'min_samples_split': [3, 5],\n",
       "                         'random_state': [121], 'splitter': ['best']},\n",
       "             scoring='f1')"
      ]
     },
     "execution_count": 38,
     "metadata": {},
     "output_type": "execute_result"
    },
    {
     "data": {
      "image/png": "[encoded data removed]",
      "text/plain": [
       "<Figure size 432x288 with 2 Axes>"
      ]
     },
     "metadata": {
      "needs_background": "light"
     },
     "output_type": "display_data"
    }
   ],
   "source": [
    "DT(sfm_lr_bad)"
   ]
  },
  {
   "cell_type": "code",
   "execution_count": 39,
   "metadata": {},
   "outputs": [],
   "source": [
    "# SVM(sfm_lr_bad, 'rbf')"
   ]
  },
  {
   "cell_type": "code",
   "execution_count": 40,
   "metadata": {},
   "outputs": [],
   "source": [
    "# XGB(sfm_lr_bad)"
   ]
  },
  {
   "attachments": {},
   "cell_type": "markdown",
   "metadata": {},
   "source": [
    "##### Permutation Importance"
   ]
  },
  {
   "cell_type": "code",
   "execution_count": 41,
   "metadata": {},
   "outputs": [
    {
     "name": "stdout",
     "output_type": "stream",
     "text": [
      "최적 파라미터\n",
      " {'C': 0.001, 'class_weight': 'balanced', 'penalty': 'l1', 'random_state': 121, 'solver': 'liblinear'}\n",
      "학습 데이터 정확도 :  0.8563508162866361\n",
      "\n",
      "예측 데이터 정확도\n",
      "accuracy score : 0.790\n",
      "precision score : 0.271\n",
      "recall score : 0.867\n",
      "f1 score : 0.413\n",
      "roc score : 0.825\n",
      "         Accuracy  Precision  Recall  F1 score  Auc_Score\n",
      "0.20000   0.49378    0.14195 0.98151   0.24804    0.71498\n",
      "0.30000   0.62616    0.18018 0.95630   0.30322    0.77589\n",
      "0.40000   0.72552    0.22680 0.92437   0.36424    0.81570\n",
      "0.50000   0.79028    0.27101 0.86723   0.41297    0.82518\n",
      "0.60000   0.83660    0.31051 0.75462   0.43998    0.79942\n",
      "0.70000   0.86405    0.32685 0.56471   0.41405    0.72829\n",
      "0.80000   0.87977    0.31135 0.34118   0.32558    0.63551\n",
      "0.90000   0.89378    0.25497 0.12941   0.17168    0.54713\n",
      "None\n"
     ]
    },
    {
     "data": {
      "image/png": "[encoded data removed]",
      "text/plain": [
       "<Figure size 432x288 with 2 Axes>"
      ]
     },
     "metadata": {
      "needs_background": "light"
     },
     "output_type": "display_data"
    }
   ],
   "source": [
    "LR(sfm_pi_bad)"
   ]
  },
  {
   "cell_type": "code",
   "execution_count": 42,
   "metadata": {},
   "outputs": [
    {
     "name": "stdout",
     "output_type": "stream",
     "text": [
      "최적 파라미터\n",
      " {'class_weight': 'balanced', 'criterion': 'entropy', 'max_depth': 7, 'min_samples_split': 5, 'random_state': 121, 'splitter': 'best'}\n",
      "학습 데이터 정확도 :  0.9089888277120519\n",
      "\n",
      "예측 데이터 정확도\n",
      "accuracy score : 0.846\n",
      "precision score : 0.341\n",
      "recall score : 0.872\n",
      "f1 score : 0.491\n",
      "roc score : 0.858\n",
      "         Accuracy  Precision  Recall  F1 score  Auc_Score\n",
      "0.20000   0.81401    0.30668 0.94118   0.46262    0.87168\n",
      "0.30000   0.81615    0.30922 0.94118   0.46550    0.87285\n",
      "0.40000   0.83803    0.33354 0.90588   0.48756    0.86880\n",
      "0.50000   0.84589    0.34122 0.87227   0.49055    0.85785\n",
      "0.60000   0.85990    0.35793 0.81513   0.49744    0.83959\n",
      "0.70000   0.87091    0.36701 0.71429   0.48488    0.79988\n",
      "0.80000   0.88420    0.36842 0.50588   0.42635    0.71263\n",
      "0.90000   0.89793    0.39083 0.35798   0.37368    0.65305\n",
      "None\n"
     ]
    },
    {
     "data": {
      "text/plain": [
       "GridSearchCV(cv=5, estimator=DecisionTreeClassifier(), n_jobs=-1,\n",
       "             param_grid={'class_weight': ['balanced'], 'criterion': ['entropy'],\n",
       "                         'max_depth': [5, 6, 7], 'min_samples_split': [3, 5],\n",
       "                         'random_state': [121], 'splitter': ['best']},\n",
       "             scoring='f1')"
      ]
     },
     "execution_count": 42,
     "metadata": {},
     "output_type": "execute_result"
    },
    {
     "data": {
      "image/png": "[encoded data removed]",
      "text/plain": [
       "<Figure size 432x288 with 2 Axes>"
      ]
     },
     "metadata": {
      "needs_background": "light"
     },
     "output_type": "display_data"
    }
   ],
   "source": [
    "DT(sfm_pi_bad)"
   ]
  },
  {
   "cell_type": "code",
   "execution_count": 43,
   "metadata": {},
   "outputs": [],
   "source": [
    "# SVM(sfm_pi_bad, 'rbf')"
   ]
  },
  {
   "cell_type": "code",
   "execution_count": 44,
   "metadata": {},
   "outputs": [],
   "source": [
    "# XGB(sfm_pi_bad)"
   ]
  }
 ],
 "metadata": {
  "kernelspec": {
   "display_name": "poly07",
   "language": "python",
   "name": "python3"
  },
  "language_info": {
   "codemirror_mode": {
    "name": "ipython",
    "version": 3
   },
   "file_extension": ".py",
   "mimetype": "text/x-python",
   "name": "python",
   "nbconvert_exporter": "python",
   "pygments_lexer": "ipython3",
   "version": "3.6.12"
  },
  "orig_nbformat": 4,
  "vscode": {
   "interpreter": {
    "hash": "c2388b1e455d5a3419322a188e4749252665636df7d4aa4dc75d4e694df1d717"
   }
  }
 },
 "nbformat": 4,
 "nbformat_minor": 2
}
